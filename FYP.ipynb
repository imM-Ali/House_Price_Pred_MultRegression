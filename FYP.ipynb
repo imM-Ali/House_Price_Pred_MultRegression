{
 "cells": [
  {
   "cell_type": "code",
   "execution_count": 30,
   "id": "e61edda6-3444-4a07-8bd0-6129dcf39774",
   "metadata": {},
   "outputs": [],
   "source": [
    "import pandas as pd\n",
    "import numpy as np \n",
    "import matplotlib.pyplot as plt\n",
    "import seaborn as sns"
   ]
  },
  {
   "cell_type": "code",
   "execution_count": 31,
   "id": "bbf1f0ef-cdcc-4a07-8896-d2921472867e",
   "metadata": {},
   "outputs": [],
   "source": [
    "data = pd.read_csv(\"daft.csv\")"
   ]
  },
  {
   "cell_type": "code",
   "execution_count": 32,
   "id": "ca88e37c-a186-4429-befe-2f82d1e5b3e5",
   "metadata": {},
   "outputs": [
    {
     "data": {
      "text/html": [
       "<div>\n",
       "<style scoped>\n",
       "    .dataframe tbody tr th:only-of-type {\n",
       "        vertical-align: middle;\n",
       "    }\n",
       "\n",
       "    .dataframe tbody tr th {\n",
       "        vertical-align: top;\n",
       "    }\n",
       "\n",
       "    .dataframe thead th {\n",
       "        text-align: right;\n",
       "    }\n",
       "</style>\n",
       "<table border=\"1\" class=\"dataframe\">\n",
       "  <thead>\n",
       "    <tr style=\"text-align: right;\">\n",
       "      <th></th>\n",
       "      <th>id</th>\n",
       "      <th>title</th>\n",
       "      <th>featuredLevel</th>\n",
       "      <th>publishDate</th>\n",
       "      <th>price</th>\n",
       "      <th>numBedrooms</th>\n",
       "      <th>numBathrooms</th>\n",
       "      <th>propertyType</th>\n",
       "      <th>propertySize</th>\n",
       "      <th>category</th>\n",
       "      <th>...</th>\n",
       "      <th>seller_name</th>\n",
       "      <th>seller_branch</th>\n",
       "      <th>sellerType</th>\n",
       "      <th>m_totalImages</th>\n",
       "      <th>m_hasVideo</th>\n",
       "      <th>m_hasVirtualTour</th>\n",
       "      <th>m_hasBrochure</th>\n",
       "      <th>ber_rating</th>\n",
       "      <th>longitude</th>\n",
       "      <th>latitude</th>\n",
       "    </tr>\n",
       "  </thead>\n",
       "  <tbody>\n",
       "    <tr>\n",
       "      <th>0</th>\n",
       "      <td>3626025</td>\n",
       "      <td>11 Chestnut Crescent, Bridgemount, Carrigaline...</td>\n",
       "      <td>featured</td>\n",
       "      <td>2022-01-28</td>\n",
       "      <td>290000</td>\n",
       "      <td>3</td>\n",
       "      <td>3</td>\n",
       "      <td>End of Terrace</td>\n",
       "      <td>96.0</td>\n",
       "      <td>Buy</td>\n",
       "      <td>...</td>\n",
       "      <td>Roy Dennehy</td>\n",
       "      <td>Dennehy Auctioneers</td>\n",
       "      <td>BRANDED_AGENT</td>\n",
       "      <td>16.0</td>\n",
       "      <td>False</td>\n",
       "      <td>False</td>\n",
       "      <td>False</td>\n",
       "      <td>C2</td>\n",
       "      <td>-8.382500</td>\n",
       "      <td>51.822940</td>\n",
       "    </tr>\n",
       "    <tr>\n",
       "      <th>1</th>\n",
       "      <td>3675175</td>\n",
       "      <td>58 The Glen, Kilnacourt Woods, Portarlington, ...</td>\n",
       "      <td>featured</td>\n",
       "      <td>2022-01-28</td>\n",
       "      <td>225000</td>\n",
       "      <td>3</td>\n",
       "      <td>2</td>\n",
       "      <td>Semi-D</td>\n",
       "      <td>93.0</td>\n",
       "      <td>Buy</td>\n",
       "      <td>...</td>\n",
       "      <td>Marie Kiernan</td>\n",
       "      <td>Tom McDonald &amp; Associates</td>\n",
       "      <td>BRANDED_AGENT</td>\n",
       "      <td>33.0</td>\n",
       "      <td>False</td>\n",
       "      <td>False</td>\n",
       "      <td>False</td>\n",
       "      <td>C1</td>\n",
       "      <td>-7.177098</td>\n",
       "      <td>53.157465</td>\n",
       "    </tr>\n",
       "    <tr>\n",
       "      <th>2</th>\n",
       "      <td>3673450</td>\n",
       "      <td>16 Dodderbrook Park, Ballycullen, Dublin 24</td>\n",
       "      <td>featured</td>\n",
       "      <td>2022-01-27</td>\n",
       "      <td>575000</td>\n",
       "      <td>4</td>\n",
       "      <td>3</td>\n",
       "      <td>Semi-D</td>\n",
       "      <td>162.0</td>\n",
       "      <td>Buy</td>\n",
       "      <td>...</td>\n",
       "      <td>Moovingo</td>\n",
       "      <td>Moovingo</td>\n",
       "      <td>BRANDED_AGENT</td>\n",
       "      <td>38.0</td>\n",
       "      <td>False</td>\n",
       "      <td>True</td>\n",
       "      <td>False</td>\n",
       "      <td>A3</td>\n",
       "      <td>-6.342763</td>\n",
       "      <td>53.269493</td>\n",
       "    </tr>\n",
       "    <tr>\n",
       "      <th>3</th>\n",
       "      <td>3649708</td>\n",
       "      <td>31 Lissanalta Drive, Dooradoyle, Co. Limerick</td>\n",
       "      <td>featured</td>\n",
       "      <td>2022-01-28</td>\n",
       "      <td>299000</td>\n",
       "      <td>3</td>\n",
       "      <td>3</td>\n",
       "      <td>Semi-D</td>\n",
       "      <td>NaN</td>\n",
       "      <td>Buy</td>\n",
       "      <td>...</td>\n",
       "      <td>DNG Cusack Dunne</td>\n",
       "      <td>DNG Cusack Dunne</td>\n",
       "      <td>BRANDED_AGENT</td>\n",
       "      <td>22.0</td>\n",
       "      <td>False</td>\n",
       "      <td>False</td>\n",
       "      <td>False</td>\n",
       "      <td>C2</td>\n",
       "      <td>-8.640716</td>\n",
       "      <td>52.629588</td>\n",
       "    </tr>\n",
       "    <tr>\n",
       "      <th>4</th>\n",
       "      <td>3643947</td>\n",
       "      <td>5 Columba Terrace, Kells, Co. Meath</td>\n",
       "      <td>featured</td>\n",
       "      <td>2022-01-28</td>\n",
       "      <td>120000</td>\n",
       "      <td>3</td>\n",
       "      <td>1</td>\n",
       "      <td>Terrace</td>\n",
       "      <td>68.0</td>\n",
       "      <td>Buy</td>\n",
       "      <td>...</td>\n",
       "      <td>REA T&amp;J Gavigan</td>\n",
       "      <td>REA T &amp; J Gavigan</td>\n",
       "      <td>BRANDED_AGENT</td>\n",
       "      <td>5.0</td>\n",
       "      <td>False</td>\n",
       "      <td>False</td>\n",
       "      <td>False</td>\n",
       "      <td>G</td>\n",
       "      <td>-6.879797</td>\n",
       "      <td>53.728601</td>\n",
       "    </tr>\n",
       "  </tbody>\n",
       "</table>\n",
       "<p>5 rows × 22 columns</p>\n",
       "</div>"
      ],
      "text/plain": [
       "        id                                              title featuredLevel  \\\n",
       "0  3626025  11 Chestnut Crescent, Bridgemount, Carrigaline...      featured   \n",
       "1  3675175  58 The Glen, Kilnacourt Woods, Portarlington, ...      featured   \n",
       "2  3673450        16 Dodderbrook Park, Ballycullen, Dublin 24      featured   \n",
       "3  3649708      31 Lissanalta Drive, Dooradoyle, Co. Limerick      featured   \n",
       "4  3643947                5 Columba Terrace, Kells, Co. Meath      featured   \n",
       "\n",
       "  publishDate   price  numBedrooms  numBathrooms    propertyType  \\\n",
       "0  2022-01-28  290000            3             3  End of Terrace   \n",
       "1  2022-01-28  225000            3             2          Semi-D   \n",
       "2  2022-01-27  575000            4             3          Semi-D   \n",
       "3  2022-01-28  299000            3             3          Semi-D   \n",
       "4  2022-01-28  120000            3             1         Terrace   \n",
       "\n",
       "   propertySize category  ...       seller_name              seller_branch  \\\n",
       "0          96.0      Buy  ...       Roy Dennehy        Dennehy Auctioneers   \n",
       "1          93.0      Buy  ...     Marie Kiernan  Tom McDonald & Associates   \n",
       "2         162.0      Buy  ...          Moovingo                   Moovingo   \n",
       "3           NaN      Buy  ...  DNG Cusack Dunne           DNG Cusack Dunne   \n",
       "4          68.0      Buy  ...   REA T&J Gavigan          REA T & J Gavigan   \n",
       "\n",
       "      sellerType m_totalImages m_hasVideo  m_hasVirtualTour  m_hasBrochure  \\\n",
       "0  BRANDED_AGENT          16.0      False             False          False   \n",
       "1  BRANDED_AGENT          33.0      False             False          False   \n",
       "2  BRANDED_AGENT          38.0      False              True          False   \n",
       "3  BRANDED_AGENT          22.0      False             False          False   \n",
       "4  BRANDED_AGENT           5.0      False             False          False   \n",
       "\n",
       "   ber_rating  longitude   latitude  \n",
       "0          C2  -8.382500  51.822940  \n",
       "1          C1  -7.177098  53.157465  \n",
       "2          A3  -6.342763  53.269493  \n",
       "3          C2  -8.640716  52.629588  \n",
       "4           G  -6.879797  53.728601  \n",
       "\n",
       "[5 rows x 22 columns]"
      ]
     },
     "execution_count": 32,
     "metadata": {},
     "output_type": "execute_result"
    }
   ],
   "source": [
    "data.head()"
   ]
  },
  {
   "cell_type": "markdown",
   "id": "c4b4bb81-573b-421c-9fa9-dd371b0afcc8",
   "metadata": {},
   "source": [
    "* #### id is not required, we can work with index.\n",
    "* #### Title is not required.\n",
    "* #### featuredLevel is not required as it only portrays the Ad on the listings website.\n",
    "* #### seller_name is not required as seller_branch is available in the data."
   ]
  },
  {
   "cell_type": "code",
   "execution_count": 33,
   "id": "847d329b-35e1-4350-85b3-371b6afe24e9",
   "metadata": {},
   "outputs": [],
   "source": [
    "data = data.drop(['id', 'title', 'featuredLevel', 'seller_name', 'category', 'AMV_price', 'seller_branch'], axis=1)"
   ]
  },
  {
   "cell_type": "markdown",
   "id": "61a9c02c-1e69-44af-9246-c12a73e33006",
   "metadata": {},
   "source": [
    "\n",
    "### Data Exploration"
   ]
  },
  {
   "cell_type": "code",
   "execution_count": 34,
   "id": "ec40ed4e-2936-4978-8d30-e6f86540b62d",
   "metadata": {},
   "outputs": [
    {
     "name": "stdout",
     "output_type": "stream",
     "text": [
      "<class 'pandas.core.frame.DataFrame'>\n",
      "RangeIndex: 3967 entries, 0 to 3966\n",
      "Data columns (total 15 columns):\n",
      " #   Column            Non-Null Count  Dtype  \n",
      "---  ------            --------------  -----  \n",
      " 0   publishDate       3967 non-null   object \n",
      " 1   price             3967 non-null   int64  \n",
      " 2   numBedrooms       3967 non-null   int64  \n",
      " 3   numBathrooms      3967 non-null   int64  \n",
      " 4   propertyType      3967 non-null   object \n",
      " 5   propertySize      3612 non-null   float64\n",
      " 6   sellerId          3967 non-null   float64\n",
      " 7   sellerType        3967 non-null   object \n",
      " 8   m_totalImages     3967 non-null   float64\n",
      " 9   m_hasVideo        3967 non-null   bool   \n",
      " 10  m_hasVirtualTour  3967 non-null   bool   \n",
      " 11  m_hasBrochure     3967 non-null   bool   \n",
      " 12  ber_rating        3967 non-null   object \n",
      " 13  longitude         3967 non-null   float64\n",
      " 14  latitude          3967 non-null   float64\n",
      "dtypes: bool(3), float64(5), int64(3), object(4)\n",
      "memory usage: 383.7+ KB\n"
     ]
    }
   ],
   "source": [
    "data.info()"
   ]
  },
  {
   "cell_type": "markdown",
   "id": "fa16a867-5dc6-4365-beb7-ebf27b404bc9",
   "metadata": {},
   "source": [
    "* #### propertySize is missing around 355 values, which is around 10% of the total, hence dropping the records will impact the performance of our model therefore we need to fill the missing values with mean value.\n",
    "* #### Date is represented by an object, we need to convert this to DateTime"
   ]
  },
  {
   "cell_type": "code",
   "execution_count": 35,
   "id": "cba69751-132d-41d7-bd7f-519db1394632",
   "metadata": {},
   "outputs": [],
   "source": [
    "mean_value = data['propertySize'].mean() \n",
    "data['propertySize'].fillna(value=mean_value, inplace=True)"
   ]
  },
  {
   "cell_type": "code",
   "execution_count": 36,
   "id": "3025d7dd-257b-429d-9c81-7c8a0313de78",
   "metadata": {},
   "outputs": [],
   "source": [
    "data['publishDate'] = pd.to_datetime(data['publishDate'])"
   ]
  },
  {
   "cell_type": "code",
   "execution_count": 37,
   "id": "1012dede-e762-4fed-8d33-e30d14cd77af",
   "metadata": {},
   "outputs": [
    {
     "name": "stdout",
     "output_type": "stream",
     "text": [
      "<class 'pandas.core.frame.DataFrame'>\n",
      "RangeIndex: 3967 entries, 0 to 3966\n",
      "Data columns (total 15 columns):\n",
      " #   Column            Non-Null Count  Dtype         \n",
      "---  ------            --------------  -----         \n",
      " 0   publishDate       3967 non-null   datetime64[ns]\n",
      " 1   price             3967 non-null   int64         \n",
      " 2   numBedrooms       3967 non-null   int64         \n",
      " 3   numBathrooms      3967 non-null   int64         \n",
      " 4   propertyType      3967 non-null   object        \n",
      " 5   propertySize      3967 non-null   float64       \n",
      " 6   sellerId          3967 non-null   float64       \n",
      " 7   sellerType        3967 non-null   object        \n",
      " 8   m_totalImages     3967 non-null   float64       \n",
      " 9   m_hasVideo        3967 non-null   bool          \n",
      " 10  m_hasVirtualTour  3967 non-null   bool          \n",
      " 11  m_hasBrochure     3967 non-null   bool          \n",
      " 12  ber_rating        3967 non-null   object        \n",
      " 13  longitude         3967 non-null   float64       \n",
      " 14  latitude          3967 non-null   float64       \n",
      "dtypes: bool(3), datetime64[ns](1), float64(5), int64(3), object(3)\n",
      "memory usage: 383.7+ KB\n"
     ]
    }
   ],
   "source": [
    "data.info()"
   ]
  },
  {
   "cell_type": "markdown",
   "id": "9e397b8d-beb8-4607-ae71-56e9bc3517c8",
   "metadata": {},
   "source": [
    "* #### Data is split in the early phase so that we can analyze the performance of our model (which uses train_data).\n",
    "* #### Test data will remain untouched until the very end."
   ]
  },
  {
   "cell_type": "code",
   "execution_count": 38,
   "id": "2daa2849-27ce-4a7e-898a-7b4559c09491",
   "metadata": {},
   "outputs": [],
   "source": [
    "from sklearn.model_selection import train_test_split\n",
    "\n",
    "X = data.drop(['price'], axis=1)\n",
    "y = data['price']"
   ]
  },
  {
   "cell_type": "markdown",
   "id": "68755a1b-ea30-467d-8578-d593eb340e77",
   "metadata": {},
   "source": [
    "#### https://onlinelibrary.wiley.com/doi/full/10.1002/sam.11583\n",
    "#### According to this study, the best test to train split ratio is the square root of number of features to 1. We have 18 features which gives us around 4.2:1 , which means the best split is 80/20."
   ]
  },
  {
   "cell_type": "code",
   "execution_count": 39,
   "id": "62862421-8bce-4270-ae0d-870b41f9ce71",
   "metadata": {},
   "outputs": [],
   "source": [
    "X_train, X_test, y_train, y_test = train_test_split(X,y, test_size=0.2)"
   ]
  },
  {
   "cell_type": "code",
   "execution_count": 40,
   "id": "6103fe3e-5199-495b-bc39-8f9b57b88cc2",
   "metadata": {},
   "outputs": [],
   "source": [
    "train_data = X_train.join(y_train)"
   ]
  },
  {
   "cell_type": "code",
   "execution_count": 41,
   "id": "339e542a-c36f-4151-a86b-9cdb2c4523aa",
   "metadata": {},
   "outputs": [
    {
     "data": {
      "text/html": [
       "<div>\n",
       "<style scoped>\n",
       "    .dataframe tbody tr th:only-of-type {\n",
       "        vertical-align: middle;\n",
       "    }\n",
       "\n",
       "    .dataframe tbody tr th {\n",
       "        vertical-align: top;\n",
       "    }\n",
       "\n",
       "    .dataframe thead th {\n",
       "        text-align: right;\n",
       "    }\n",
       "</style>\n",
       "<table border=\"1\" class=\"dataframe\">\n",
       "  <thead>\n",
       "    <tr style=\"text-align: right;\">\n",
       "      <th></th>\n",
       "      <th>publishDate</th>\n",
       "      <th>numBedrooms</th>\n",
       "      <th>numBathrooms</th>\n",
       "      <th>propertyType</th>\n",
       "      <th>propertySize</th>\n",
       "      <th>sellerId</th>\n",
       "      <th>sellerType</th>\n",
       "      <th>m_totalImages</th>\n",
       "      <th>m_hasVideo</th>\n",
       "      <th>m_hasVirtualTour</th>\n",
       "      <th>m_hasBrochure</th>\n",
       "      <th>ber_rating</th>\n",
       "      <th>longitude</th>\n",
       "      <th>latitude</th>\n",
       "      <th>price</th>\n",
       "    </tr>\n",
       "  </thead>\n",
       "  <tbody>\n",
       "    <tr>\n",
       "      <th>291</th>\n",
       "      <td>2022-01-30</td>\n",
       "      <td>4</td>\n",
       "      <td>2</td>\n",
       "      <td>Terrace</td>\n",
       "      <td>149.000000</td>\n",
       "      <td>793.0</td>\n",
       "      <td>UNBRANDED_AGENT</td>\n",
       "      <td>23.0</td>\n",
       "      <td>False</td>\n",
       "      <td>False</td>\n",
       "      <td>False</td>\n",
       "      <td>D1</td>\n",
       "      <td>-6.347112</td>\n",
       "      <td>53.717310</td>\n",
       "      <td>485000</td>\n",
       "    </tr>\n",
       "    <tr>\n",
       "      <th>134</th>\n",
       "      <td>2022-01-12</td>\n",
       "      <td>3</td>\n",
       "      <td>3</td>\n",
       "      <td>End of Terrace</td>\n",
       "      <td>106.000000</td>\n",
       "      <td>1250.0</td>\n",
       "      <td>BRANDED_AGENT</td>\n",
       "      <td>15.0</td>\n",
       "      <td>False</td>\n",
       "      <td>False</td>\n",
       "      <td>False</td>\n",
       "      <td>C2</td>\n",
       "      <td>-6.717467</td>\n",
       "      <td>53.748634</td>\n",
       "      <td>315000</td>\n",
       "    </tr>\n",
       "    <tr>\n",
       "      <th>1287</th>\n",
       "      <td>2022-01-28</td>\n",
       "      <td>3</td>\n",
       "      <td>3</td>\n",
       "      <td>Semi-D</td>\n",
       "      <td>132.673865</td>\n",
       "      <td>8806.0</td>\n",
       "      <td>BRANDED_AGENT</td>\n",
       "      <td>14.0</td>\n",
       "      <td>False</td>\n",
       "      <td>False</td>\n",
       "      <td>False</td>\n",
       "      <td>C3</td>\n",
       "      <td>-7.718920</td>\n",
       "      <td>52.790241</td>\n",
       "      <td>279000</td>\n",
       "    </tr>\n",
       "    <tr>\n",
       "      <th>2377</th>\n",
       "      <td>2022-01-27</td>\n",
       "      <td>4</td>\n",
       "      <td>1</td>\n",
       "      <td>Detached</td>\n",
       "      <td>186.000000</td>\n",
       "      <td>1413.0</td>\n",
       "      <td>BRANDED_AGENT</td>\n",
       "      <td>11.0</td>\n",
       "      <td>False</td>\n",
       "      <td>False</td>\n",
       "      <td>False</td>\n",
       "      <td>B3</td>\n",
       "      <td>-6.331019</td>\n",
       "      <td>53.342291</td>\n",
       "      <td>1200000</td>\n",
       "    </tr>\n",
       "    <tr>\n",
       "      <th>3496</th>\n",
       "      <td>2022-01-28</td>\n",
       "      <td>2</td>\n",
       "      <td>1</td>\n",
       "      <td>Apartment</td>\n",
       "      <td>49.000000</td>\n",
       "      <td>8774.0</td>\n",
       "      <td>BRANDED_AGENT</td>\n",
       "      <td>16.0</td>\n",
       "      <td>True</td>\n",
       "      <td>False</td>\n",
       "      <td>False</td>\n",
       "      <td>E1</td>\n",
       "      <td>-9.054026</td>\n",
       "      <td>53.270136</td>\n",
       "      <td>365000</td>\n",
       "    </tr>\n",
       "  </tbody>\n",
       "</table>\n",
       "</div>"
      ],
      "text/plain": [
       "     publishDate  numBedrooms  numBathrooms    propertyType  propertySize  \\\n",
       "291   2022-01-30            4             2         Terrace    149.000000   \n",
       "134   2022-01-12            3             3  End of Terrace    106.000000   \n",
       "1287  2022-01-28            3             3          Semi-D    132.673865   \n",
       "2377  2022-01-27            4             1        Detached    186.000000   \n",
       "3496  2022-01-28            2             1       Apartment     49.000000   \n",
       "\n",
       "      sellerId       sellerType  m_totalImages  m_hasVideo  m_hasVirtualTour  \\\n",
       "291      793.0  UNBRANDED_AGENT           23.0       False             False   \n",
       "134     1250.0    BRANDED_AGENT           15.0       False             False   \n",
       "1287    8806.0    BRANDED_AGENT           14.0       False             False   \n",
       "2377    1413.0    BRANDED_AGENT           11.0       False             False   \n",
       "3496    8774.0    BRANDED_AGENT           16.0        True             False   \n",
       "\n",
       "      m_hasBrochure ber_rating  longitude   latitude    price  \n",
       "291           False         D1  -6.347112  53.717310   485000  \n",
       "134           False         C2  -6.717467  53.748634   315000  \n",
       "1287          False         C3  -7.718920  52.790241   279000  \n",
       "2377          False         B3  -6.331019  53.342291  1200000  \n",
       "3496          False         E1  -9.054026  53.270136   365000  "
      ]
     },
     "execution_count": 41,
     "metadata": {},
     "output_type": "execute_result"
    }
   ],
   "source": [
    "train_data.head()"
   ]
  },
  {
   "cell_type": "markdown",
   "id": "684510c0-1791-43bb-abe7-25520d720557",
   "metadata": {},
   "source": [
    "#### We have the training dataset, we can now perform preprocessing techniques such as encoding, standardizaiton and feature engineering etc."
   ]
  },
  {
   "cell_type": "markdown",
   "id": "d3dcf5a3-f92e-4d1c-aab4-32da8a9c6cbe",
   "metadata": {},
   "source": [
    "#### Splitting DateTime to Year, Month and Day"
   ]
  },
  {
   "cell_type": "code",
   "execution_count": 42,
   "id": "a85f2bb7-dd89-4de4-9073-a3b53e75fa34",
   "metadata": {},
   "outputs": [],
   "source": [
    "train_data['year'] = train_data['publishDate'].dt.year\n",
    "train_data['month'] = train_data['publishDate'].dt.month\n",
    "train_data['day'] = train_data['publishDate'].dt.day\n",
    "\n",
    "train_data.drop(['publishDate'], axis=1, inplace = True)"
   ]
  },
  {
   "cell_type": "markdown",
   "id": "7aade566-a244-4f27-b89b-ba97e9363a43",
   "metadata": {},
   "source": [
    "#### Converting bool to int"
   ]
  },
  {
   "cell_type": "code",
   "execution_count": 43,
   "id": "442cd15f-1888-4fbd-a3d0-ad67b5371d11",
   "metadata": {},
   "outputs": [],
   "source": [
    "train_data.replace({False: 0, True: 1}, inplace=True)"
   ]
  },
  {
   "cell_type": "markdown",
   "id": "4e07b37a-4c41-47ff-9bb9-0de0647f698a",
   "metadata": {},
   "source": [
    "#### Dropping missing energy rating values as these cannot be replaced."
   ]
  },
  {
   "cell_type": "code",
   "execution_count": 44,
   "id": "797226f9-da82-46ca-a0eb-e70f61776f1a",
   "metadata": {},
   "outputs": [
    {
     "data": {
      "text/plain": [
       "134"
      ]
     },
     "execution_count": 44,
     "metadata": {},
     "output_type": "execute_result"
    }
   ],
   "source": [
    "train_data['ber_rating'].value_counts().get('XXX', 0)"
   ]
  },
  {
   "cell_type": "code",
   "execution_count": 45,
   "id": "7aa4d053-6d8c-4c51-b68c-d72a4a9178fe",
   "metadata": {},
   "outputs": [],
   "source": [
    "train_data.drop(train_data[train_data['ber_rating'] == 'XXX'].index, inplace=True)"
   ]
  },
  {
   "cell_type": "markdown",
   "id": "29826286-e394-42b7-a81d-c2eebab85cb9",
   "metadata": {},
   "source": [
    "#### Dealing with High Cardinality in Categorical Features\n",
    "##### We can see that the amount of unique values is alot for using One Hot Encoding as it will introduce Curse of Dimensionality.\n",
    "##### Hence, we use simple aggregation to convert all values to 'other' except the 3 most occuring values and then we can use Label Encoding."
   ]
  },
  {
   "cell_type": "code",
   "execution_count": 46,
   "id": "22cbf7b2-d6a3-4aa5-aeab-2850b322c4fc",
   "metadata": {},
   "outputs": [
    {
     "data": {
      "text/plain": [
       "propertyType\n",
       "Detached          813\n",
       "Semi-D            751\n",
       "Apartment         562\n",
       "Terrace           471\n",
       "End of Terrace    185\n",
       "Bungalow          154\n",
       "Townhouse          48\n",
       "Duplex             40\n",
       "Site               12\n",
       "House               2\n",
       "Studio              1\n",
       "Name: count, dtype: int64"
      ]
     },
     "execution_count": 46,
     "metadata": {},
     "output_type": "execute_result"
    }
   ],
   "source": [
    "train_data['propertyType'].value_counts()"
   ]
  },
  {
   "cell_type": "code",
   "execution_count": 47,
   "id": "c2d217e2-ff3b-4111-86d6-f71b8bcd83ae",
   "metadata": {},
   "outputs": [],
   "source": [
    "train_data['propertyType'].replace(['Terrace', 'End of Terrace', 'Bungalow', 'Townhouse', 'Duplex', 'Site', 'House', 'Studio'], 'Other', inplace=True)"
   ]
  },
  {
   "cell_type": "code",
   "execution_count": 48,
   "id": "44951b27-d7a5-41d9-87ef-cdab60b9587d",
   "metadata": {},
   "outputs": [
    {
     "data": {
      "text/plain": [
       "propertyType\n",
       "Other        913\n",
       "Detached     813\n",
       "Semi-D       751\n",
       "Apartment    562\n",
       "Name: count, dtype: int64"
      ]
     },
     "execution_count": 48,
     "metadata": {},
     "output_type": "execute_result"
    }
   ],
   "source": [
    "train_data['propertyType'].value_counts()"
   ]
  },
  {
   "cell_type": "code",
   "execution_count": 49,
   "id": "8fb3a6ec-c625-4549-9310-0e59c86a2b0e",
   "metadata": {},
   "outputs": [],
   "source": [
    "from sklearn import preprocessing \n",
    "\n",
    "label_encoder = preprocessing.LabelEncoder() \n",
    "\n",
    "train_data['propertyType'] = label_encoder.fit_transform(train_data['propertyType'])\n",
    "train_data['sellerType'] = label_encoder.fit_transform(train_data['sellerType'])"
   ]
  },
  {
   "cell_type": "code",
   "execution_count": 50,
   "id": "7c697d49-5d57-4e42-9f8d-68736fa5c039",
   "metadata": {},
   "outputs": [
    {
     "data": {
      "text/html": [
       "<div>\n",
       "<style scoped>\n",
       "    .dataframe tbody tr th:only-of-type {\n",
       "        vertical-align: middle;\n",
       "    }\n",
       "\n",
       "    .dataframe tbody tr th {\n",
       "        vertical-align: top;\n",
       "    }\n",
       "\n",
       "    .dataframe thead th {\n",
       "        text-align: right;\n",
       "    }\n",
       "</style>\n",
       "<table border=\"1\" class=\"dataframe\">\n",
       "  <thead>\n",
       "    <tr style=\"text-align: right;\">\n",
       "      <th></th>\n",
       "      <th>numBedrooms</th>\n",
       "      <th>numBathrooms</th>\n",
       "      <th>propertyType</th>\n",
       "      <th>propertySize</th>\n",
       "      <th>sellerId</th>\n",
       "      <th>sellerType</th>\n",
       "      <th>m_totalImages</th>\n",
       "      <th>m_hasVideo</th>\n",
       "      <th>m_hasVirtualTour</th>\n",
       "      <th>m_hasBrochure</th>\n",
       "      <th>ber_rating</th>\n",
       "      <th>longitude</th>\n",
       "      <th>latitude</th>\n",
       "      <th>price</th>\n",
       "      <th>year</th>\n",
       "      <th>month</th>\n",
       "      <th>day</th>\n",
       "    </tr>\n",
       "  </thead>\n",
       "  <tbody>\n",
       "    <tr>\n",
       "      <th>291</th>\n",
       "      <td>4</td>\n",
       "      <td>2</td>\n",
       "      <td>2</td>\n",
       "      <td>149.000000</td>\n",
       "      <td>793.0</td>\n",
       "      <td>2</td>\n",
       "      <td>23.0</td>\n",
       "      <td>0</td>\n",
       "      <td>0</td>\n",
       "      <td>0</td>\n",
       "      <td>D1</td>\n",
       "      <td>-6.347112</td>\n",
       "      <td>53.717310</td>\n",
       "      <td>485000</td>\n",
       "      <td>2022</td>\n",
       "      <td>1</td>\n",
       "      <td>30</td>\n",
       "    </tr>\n",
       "    <tr>\n",
       "      <th>134</th>\n",
       "      <td>3</td>\n",
       "      <td>3</td>\n",
       "      <td>2</td>\n",
       "      <td>106.000000</td>\n",
       "      <td>1250.0</td>\n",
       "      <td>0</td>\n",
       "      <td>15.0</td>\n",
       "      <td>0</td>\n",
       "      <td>0</td>\n",
       "      <td>0</td>\n",
       "      <td>C2</td>\n",
       "      <td>-6.717467</td>\n",
       "      <td>53.748634</td>\n",
       "      <td>315000</td>\n",
       "      <td>2022</td>\n",
       "      <td>1</td>\n",
       "      <td>12</td>\n",
       "    </tr>\n",
       "    <tr>\n",
       "      <th>1287</th>\n",
       "      <td>3</td>\n",
       "      <td>3</td>\n",
       "      <td>3</td>\n",
       "      <td>132.673865</td>\n",
       "      <td>8806.0</td>\n",
       "      <td>0</td>\n",
       "      <td>14.0</td>\n",
       "      <td>0</td>\n",
       "      <td>0</td>\n",
       "      <td>0</td>\n",
       "      <td>C3</td>\n",
       "      <td>-7.718920</td>\n",
       "      <td>52.790241</td>\n",
       "      <td>279000</td>\n",
       "      <td>2022</td>\n",
       "      <td>1</td>\n",
       "      <td>28</td>\n",
       "    </tr>\n",
       "    <tr>\n",
       "      <th>2377</th>\n",
       "      <td>4</td>\n",
       "      <td>1</td>\n",
       "      <td>1</td>\n",
       "      <td>186.000000</td>\n",
       "      <td>1413.0</td>\n",
       "      <td>0</td>\n",
       "      <td>11.0</td>\n",
       "      <td>0</td>\n",
       "      <td>0</td>\n",
       "      <td>0</td>\n",
       "      <td>B3</td>\n",
       "      <td>-6.331019</td>\n",
       "      <td>53.342291</td>\n",
       "      <td>1200000</td>\n",
       "      <td>2022</td>\n",
       "      <td>1</td>\n",
       "      <td>27</td>\n",
       "    </tr>\n",
       "    <tr>\n",
       "      <th>3496</th>\n",
       "      <td>2</td>\n",
       "      <td>1</td>\n",
       "      <td>0</td>\n",
       "      <td>49.000000</td>\n",
       "      <td>8774.0</td>\n",
       "      <td>0</td>\n",
       "      <td>16.0</td>\n",
       "      <td>1</td>\n",
       "      <td>0</td>\n",
       "      <td>0</td>\n",
       "      <td>E1</td>\n",
       "      <td>-9.054026</td>\n",
       "      <td>53.270136</td>\n",
       "      <td>365000</td>\n",
       "      <td>2022</td>\n",
       "      <td>1</td>\n",
       "      <td>28</td>\n",
       "    </tr>\n",
       "  </tbody>\n",
       "</table>\n",
       "</div>"
      ],
      "text/plain": [
       "      numBedrooms  numBathrooms  propertyType  propertySize  sellerId  \\\n",
       "291             4             2             2    149.000000     793.0   \n",
       "134             3             3             2    106.000000    1250.0   \n",
       "1287            3             3             3    132.673865    8806.0   \n",
       "2377            4             1             1    186.000000    1413.0   \n",
       "3496            2             1             0     49.000000    8774.0   \n",
       "\n",
       "      sellerType  m_totalImages  m_hasVideo  m_hasVirtualTour  m_hasBrochure  \\\n",
       "291            2           23.0           0                 0              0   \n",
       "134            0           15.0           0                 0              0   \n",
       "1287           0           14.0           0                 0              0   \n",
       "2377           0           11.0           0                 0              0   \n",
       "3496           0           16.0           1                 0              0   \n",
       "\n",
       "     ber_rating  longitude   latitude    price  year  month  day  \n",
       "291          D1  -6.347112  53.717310   485000  2022      1   30  \n",
       "134          C2  -6.717467  53.748634   315000  2022      1   12  \n",
       "1287         C3  -7.718920  52.790241   279000  2022      1   28  \n",
       "2377         B3  -6.331019  53.342291  1200000  2022      1   27  \n",
       "3496         E1  -9.054026  53.270136   365000  2022      1   28  "
      ]
     },
     "execution_count": 50,
     "metadata": {},
     "output_type": "execute_result"
    }
   ],
   "source": [
    "train_data.head()"
   ]
  },
  {
   "cell_type": "markdown",
   "id": "2de6350a-b340-4c3f-8669-67bb34aaec06",
   "metadata": {},
   "source": [
    "#### Encoding Energy Ratings"
   ]
  },
  {
   "cell_type": "code",
   "execution_count": 51,
   "id": "f707fe6d-be18-46b1-9824-4e201d93bbc0",
   "metadata": {},
   "outputs": [
    {
     "data": {
      "text/plain": [
       "ber_rating\n",
       "C2        395\n",
       "C3        376\n",
       "C1        357\n",
       "D1        355\n",
       "D2        290\n",
       "B3        224\n",
       "G         193\n",
       "E1        175\n",
       "SI_666    144\n",
       "E2        136\n",
       "F         127\n",
       "A2         83\n",
       "B2         83\n",
       "A3         77\n",
       "B1         19\n",
       "A1          4\n",
       "A1A2        1\n",
       "Name: count, dtype: int64"
      ]
     },
     "execution_count": 51,
     "metadata": {},
     "output_type": "execute_result"
    }
   ],
   "source": [
    "train_data['ber_rating'].value_counts()"
   ]
  },
  {
   "cell_type": "code",
   "execution_count": 52,
   "id": "107bac20-4872-4041-a894-092b82220410",
   "metadata": {},
   "outputs": [],
   "source": [
    "train_data = train_data[train_data.ber_rating != 'A1A2']"
   ]
  },
  {
   "cell_type": "code",
   "execution_count": 53,
   "id": "3a3ecbf4-a905-4421-a238-22d241e492a0",
   "metadata": {},
   "outputs": [
    {
     "data": {
      "text/plain": [
       "ber_rating\n",
       "C2        395\n",
       "C3        376\n",
       "C1        357\n",
       "D1        355\n",
       "D2        290\n",
       "B3        224\n",
       "G         193\n",
       "E1        175\n",
       "SI_666    144\n",
       "E2        136\n",
       "F         127\n",
       "B2         83\n",
       "A2         83\n",
       "A3         77\n",
       "B1         19\n",
       "A1          4\n",
       "Name: count, dtype: int64"
      ]
     },
     "execution_count": 53,
     "metadata": {},
     "output_type": "execute_result"
    }
   ],
   "source": [
    "train_data['ber_rating'].value_counts()"
   ]
  },
  {
   "cell_type": "code",
   "execution_count": 54,
   "id": "c67d1e84-f7d6-452b-ac5d-ead0506aef32",
   "metadata": {},
   "outputs": [],
   "source": [
    "train_data['ber_rating'].replace({'A1': 'high', 'A2': 'high', 'A3': 'high', \n",
    "                                   'B1': 'med', 'B2': 'med', 'B3': 'med', \n",
    "                                   'C1': 'low', 'C2': 'low', 'C3': 'low', \n",
    "                                   'D1': 'low', 'D2': 'low', 'D3': 'low', \n",
    "                                   'E1': 'low', 'E2': 'low', 'F': 'low', \n",
    "                                   'G': 'low', 'SI_666': 'low'}, inplace=True)"
   ]
  },
  {
   "cell_type": "code",
   "execution_count": 55,
   "id": "8643c726-8de1-4696-870b-250eaa84c87e",
   "metadata": {},
   "outputs": [
    {
     "data": {
      "text/plain": [
       "ber_rating\n",
       "low     2548\n",
       "med      326\n",
       "high     164\n",
       "Name: count, dtype: int64"
      ]
     },
     "execution_count": 55,
     "metadata": {},
     "output_type": "execute_result"
    }
   ],
   "source": [
    "train_data['ber_rating'].value_counts()"
   ]
  },
  {
   "cell_type": "code",
   "execution_count": 58,
   "id": "ed60a153-646b-4776-bab2-0dacaab835f3",
   "metadata": {},
   "outputs": [],
   "source": [
    "train_data['ber_rating'] = label_encoder.fit_transform(train_data['ber_rating'])"
   ]
  },
  {
   "cell_type": "code",
   "execution_count": 59,
   "id": "c115d222-34fa-4015-a4f9-57093b08e3bc",
   "metadata": {},
   "outputs": [
    {
     "data": {
      "text/html": [
       "<div>\n",
       "<style scoped>\n",
       "    .dataframe tbody tr th:only-of-type {\n",
       "        vertical-align: middle;\n",
       "    }\n",
       "\n",
       "    .dataframe tbody tr th {\n",
       "        vertical-align: top;\n",
       "    }\n",
       "\n",
       "    .dataframe thead th {\n",
       "        text-align: right;\n",
       "    }\n",
       "</style>\n",
       "<table border=\"1\" class=\"dataframe\">\n",
       "  <thead>\n",
       "    <tr style=\"text-align: right;\">\n",
       "      <th></th>\n",
       "      <th>numBedrooms</th>\n",
       "      <th>numBathrooms</th>\n",
       "      <th>propertyType</th>\n",
       "      <th>propertySize</th>\n",
       "      <th>sellerId</th>\n",
       "      <th>sellerType</th>\n",
       "      <th>m_totalImages</th>\n",
       "      <th>m_hasVideo</th>\n",
       "      <th>m_hasVirtualTour</th>\n",
       "      <th>m_hasBrochure</th>\n",
       "      <th>ber_rating</th>\n",
       "      <th>longitude</th>\n",
       "      <th>latitude</th>\n",
       "      <th>price</th>\n",
       "      <th>year</th>\n",
       "      <th>month</th>\n",
       "      <th>day</th>\n",
       "    </tr>\n",
       "  </thead>\n",
       "  <tbody>\n",
       "    <tr>\n",
       "      <th>291</th>\n",
       "      <td>4</td>\n",
       "      <td>2</td>\n",
       "      <td>2</td>\n",
       "      <td>149.000000</td>\n",
       "      <td>793.0</td>\n",
       "      <td>2</td>\n",
       "      <td>23.0</td>\n",
       "      <td>0</td>\n",
       "      <td>0</td>\n",
       "      <td>0</td>\n",
       "      <td>1</td>\n",
       "      <td>-6.347112</td>\n",
       "      <td>53.717310</td>\n",
       "      <td>485000</td>\n",
       "      <td>2022</td>\n",
       "      <td>1</td>\n",
       "      <td>30</td>\n",
       "    </tr>\n",
       "    <tr>\n",
       "      <th>134</th>\n",
       "      <td>3</td>\n",
       "      <td>3</td>\n",
       "      <td>2</td>\n",
       "      <td>106.000000</td>\n",
       "      <td>1250.0</td>\n",
       "      <td>0</td>\n",
       "      <td>15.0</td>\n",
       "      <td>0</td>\n",
       "      <td>0</td>\n",
       "      <td>0</td>\n",
       "      <td>1</td>\n",
       "      <td>-6.717467</td>\n",
       "      <td>53.748634</td>\n",
       "      <td>315000</td>\n",
       "      <td>2022</td>\n",
       "      <td>1</td>\n",
       "      <td>12</td>\n",
       "    </tr>\n",
       "    <tr>\n",
       "      <th>1287</th>\n",
       "      <td>3</td>\n",
       "      <td>3</td>\n",
       "      <td>3</td>\n",
       "      <td>132.673865</td>\n",
       "      <td>8806.0</td>\n",
       "      <td>0</td>\n",
       "      <td>14.0</td>\n",
       "      <td>0</td>\n",
       "      <td>0</td>\n",
       "      <td>0</td>\n",
       "      <td>1</td>\n",
       "      <td>-7.718920</td>\n",
       "      <td>52.790241</td>\n",
       "      <td>279000</td>\n",
       "      <td>2022</td>\n",
       "      <td>1</td>\n",
       "      <td>28</td>\n",
       "    </tr>\n",
       "    <tr>\n",
       "      <th>2377</th>\n",
       "      <td>4</td>\n",
       "      <td>1</td>\n",
       "      <td>1</td>\n",
       "      <td>186.000000</td>\n",
       "      <td>1413.0</td>\n",
       "      <td>0</td>\n",
       "      <td>11.0</td>\n",
       "      <td>0</td>\n",
       "      <td>0</td>\n",
       "      <td>0</td>\n",
       "      <td>2</td>\n",
       "      <td>-6.331019</td>\n",
       "      <td>53.342291</td>\n",
       "      <td>1200000</td>\n",
       "      <td>2022</td>\n",
       "      <td>1</td>\n",
       "      <td>27</td>\n",
       "    </tr>\n",
       "    <tr>\n",
       "      <th>3496</th>\n",
       "      <td>2</td>\n",
       "      <td>1</td>\n",
       "      <td>0</td>\n",
       "      <td>49.000000</td>\n",
       "      <td>8774.0</td>\n",
       "      <td>0</td>\n",
       "      <td>16.0</td>\n",
       "      <td>1</td>\n",
       "      <td>0</td>\n",
       "      <td>0</td>\n",
       "      <td>1</td>\n",
       "      <td>-9.054026</td>\n",
       "      <td>53.270136</td>\n",
       "      <td>365000</td>\n",
       "      <td>2022</td>\n",
       "      <td>1</td>\n",
       "      <td>28</td>\n",
       "    </tr>\n",
       "  </tbody>\n",
       "</table>\n",
       "</div>"
      ],
      "text/plain": [
       "      numBedrooms  numBathrooms  propertyType  propertySize  sellerId  \\\n",
       "291             4             2             2    149.000000     793.0   \n",
       "134             3             3             2    106.000000    1250.0   \n",
       "1287            3             3             3    132.673865    8806.0   \n",
       "2377            4             1             1    186.000000    1413.0   \n",
       "3496            2             1             0     49.000000    8774.0   \n",
       "\n",
       "      sellerType  m_totalImages  m_hasVideo  m_hasVirtualTour  m_hasBrochure  \\\n",
       "291            2           23.0           0                 0              0   \n",
       "134            0           15.0           0                 0              0   \n",
       "1287           0           14.0           0                 0              0   \n",
       "2377           0           11.0           0                 0              0   \n",
       "3496           0           16.0           1                 0              0   \n",
       "\n",
       "      ber_rating  longitude   latitude    price  year  month  day  \n",
       "291            1  -6.347112  53.717310   485000  2022      1   30  \n",
       "134            1  -6.717467  53.748634   315000  2022      1   12  \n",
       "1287           1  -7.718920  52.790241   279000  2022      1   28  \n",
       "2377           2  -6.331019  53.342291  1200000  2022      1   27  \n",
       "3496           1  -9.054026  53.270136   365000  2022      1   28  "
      ]
     },
     "execution_count": 59,
     "metadata": {},
     "output_type": "execute_result"
    }
   ],
   "source": [
    "train_data.head()"
   ]
  },
  {
   "cell_type": "code",
   "execution_count": 60,
   "id": "05676b8d-92f8-4c85-a6bf-2a9cb215e7eb",
   "metadata": {},
   "outputs": [
    {
     "data": {
      "text/plain": [
       "ber_rating\n",
       "1    2548\n",
       "2     326\n",
       "0     164\n",
       "Name: count, dtype: int64"
      ]
     },
     "execution_count": 60,
     "metadata": {},
     "output_type": "execute_result"
    }
   ],
   "source": [
    "train_data['ber_rating'].value_counts()"
   ]
  },
  {
   "cell_type": "code",
   "execution_count": null,
   "id": "777d190b-a65b-47ea-86de-05a46ca0877c",
   "metadata": {},
   "outputs": [],
   "source": []
  }
 ],
 "metadata": {
  "kernelspec": {
   "display_name": "Python 3 (ipykernel)",
   "language": "python",
   "name": "python3"
  },
  "language_info": {
   "codemirror_mode": {
    "name": "ipython",
    "version": 3
   },
   "file_extension": ".py",
   "mimetype": "text/x-python",
   "name": "python",
   "nbconvert_exporter": "python",
   "pygments_lexer": "ipython3",
   "version": "3.11.7"
  }
 },
 "nbformat": 4,
 "nbformat_minor": 5
}
