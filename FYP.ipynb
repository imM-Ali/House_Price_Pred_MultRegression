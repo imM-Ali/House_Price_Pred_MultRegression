{
 "cells": [
  {
   "cell_type": "code",
   "execution_count": 1,
   "id": "e61edda6-3444-4a07-8bd0-6129dcf39774",
   "metadata": {},
   "outputs": [],
   "source": [
    "import pandas as pd\n",
    "import numpy as np \n",
    "import matplotlib as plt\n",
    "import seaborn as sns"
   ]
  },
  {
   "cell_type": "code",
   "execution_count": 10,
   "id": "bbf1f0ef-cdcc-4a07-8896-d2921472867e",
   "metadata": {},
   "outputs": [],
   "source": [
    "data = pd.read_csv(\"daft.csv\")"
   ]
  },
  {
   "cell_type": "code",
   "execution_count": 13,
   "id": "ca88e37c-a186-4429-befe-2f82d1e5b3e5",
   "metadata": {},
   "outputs": [
    {
     "data": {
      "text/html": [
       "<div>\n",
       "<style scoped>\n",
       "    .dataframe tbody tr th:only-of-type {\n",
       "        vertical-align: middle;\n",
       "    }\n",
       "\n",
       "    .dataframe tbody tr th {\n",
       "        vertical-align: top;\n",
       "    }\n",
       "\n",
       "    .dataframe thead th {\n",
       "        text-align: right;\n",
       "    }\n",
       "</style>\n",
       "<table border=\"1\" class=\"dataframe\">\n",
       "  <thead>\n",
       "    <tr style=\"text-align: right;\">\n",
       "      <th></th>\n",
       "      <th>publishDate</th>\n",
       "      <th>price</th>\n",
       "      <th>numBedrooms</th>\n",
       "      <th>numBathrooms</th>\n",
       "      <th>propertyType</th>\n",
       "      <th>propertySize</th>\n",
       "      <th>category</th>\n",
       "      <th>AMV_price</th>\n",
       "      <th>sellerId</th>\n",
       "      <th>seller_branch</th>\n",
       "      <th>sellerType</th>\n",
       "      <th>m_totalImages</th>\n",
       "      <th>m_hasVideo</th>\n",
       "      <th>m_hasVirtualTour</th>\n",
       "      <th>m_hasBrochure</th>\n",
       "      <th>ber_rating</th>\n",
       "      <th>longitude</th>\n",
       "      <th>latitude</th>\n",
       "    </tr>\n",
       "  </thead>\n",
       "  <tbody>\n",
       "    <tr>\n",
       "      <th>0</th>\n",
       "      <td>2022-01-28</td>\n",
       "      <td>290000</td>\n",
       "      <td>3</td>\n",
       "      <td>3</td>\n",
       "      <td>End of Terrace</td>\n",
       "      <td>96.0</td>\n",
       "      <td>Buy</td>\n",
       "      <td>0</td>\n",
       "      <td>3230.0</td>\n",
       "      <td>Dennehy Auctioneers</td>\n",
       "      <td>BRANDED_AGENT</td>\n",
       "      <td>16.0</td>\n",
       "      <td>False</td>\n",
       "      <td>False</td>\n",
       "      <td>False</td>\n",
       "      <td>C2</td>\n",
       "      <td>-8.382500</td>\n",
       "      <td>51.822940</td>\n",
       "    </tr>\n",
       "    <tr>\n",
       "      <th>1</th>\n",
       "      <td>2022-01-28</td>\n",
       "      <td>225000</td>\n",
       "      <td>3</td>\n",
       "      <td>2</td>\n",
       "      <td>Semi-D</td>\n",
       "      <td>93.0</td>\n",
       "      <td>Buy</td>\n",
       "      <td>0</td>\n",
       "      <td>2753.0</td>\n",
       "      <td>Tom McDonald &amp; Associates</td>\n",
       "      <td>BRANDED_AGENT</td>\n",
       "      <td>33.0</td>\n",
       "      <td>False</td>\n",
       "      <td>False</td>\n",
       "      <td>False</td>\n",
       "      <td>C1</td>\n",
       "      <td>-7.177098</td>\n",
       "      <td>53.157465</td>\n",
       "    </tr>\n",
       "    <tr>\n",
       "      <th>2</th>\n",
       "      <td>2022-01-27</td>\n",
       "      <td>575000</td>\n",
       "      <td>4</td>\n",
       "      <td>3</td>\n",
       "      <td>Semi-D</td>\n",
       "      <td>162.0</td>\n",
       "      <td>Buy</td>\n",
       "      <td>0</td>\n",
       "      <td>10950.0</td>\n",
       "      <td>Moovingo</td>\n",
       "      <td>BRANDED_AGENT</td>\n",
       "      <td>38.0</td>\n",
       "      <td>False</td>\n",
       "      <td>True</td>\n",
       "      <td>False</td>\n",
       "      <td>A3</td>\n",
       "      <td>-6.342763</td>\n",
       "      <td>53.269493</td>\n",
       "    </tr>\n",
       "    <tr>\n",
       "      <th>3</th>\n",
       "      <td>2022-01-28</td>\n",
       "      <td>299000</td>\n",
       "      <td>3</td>\n",
       "      <td>3</td>\n",
       "      <td>Semi-D</td>\n",
       "      <td>NaN</td>\n",
       "      <td>Buy</td>\n",
       "      <td>0</td>\n",
       "      <td>1374.0</td>\n",
       "      <td>DNG Cusack Dunne</td>\n",
       "      <td>BRANDED_AGENT</td>\n",
       "      <td>22.0</td>\n",
       "      <td>False</td>\n",
       "      <td>False</td>\n",
       "      <td>False</td>\n",
       "      <td>C2</td>\n",
       "      <td>-8.640716</td>\n",
       "      <td>52.629588</td>\n",
       "    </tr>\n",
       "    <tr>\n",
       "      <th>4</th>\n",
       "      <td>2022-01-28</td>\n",
       "      <td>120000</td>\n",
       "      <td>3</td>\n",
       "      <td>1</td>\n",
       "      <td>Terrace</td>\n",
       "      <td>68.0</td>\n",
       "      <td>Buy</td>\n",
       "      <td>0</td>\n",
       "      <td>1076.0</td>\n",
       "      <td>REA T &amp; J Gavigan</td>\n",
       "      <td>BRANDED_AGENT</td>\n",
       "      <td>5.0</td>\n",
       "      <td>False</td>\n",
       "      <td>False</td>\n",
       "      <td>False</td>\n",
       "      <td>G</td>\n",
       "      <td>-6.879797</td>\n",
       "      <td>53.728601</td>\n",
       "    </tr>\n",
       "  </tbody>\n",
       "</table>\n",
       "</div>"
      ],
      "text/plain": [
       "  publishDate   price  numBedrooms  numBathrooms    propertyType  \\\n",
       "0  2022-01-28  290000            3             3  End of Terrace   \n",
       "1  2022-01-28  225000            3             2          Semi-D   \n",
       "2  2022-01-27  575000            4             3          Semi-D   \n",
       "3  2022-01-28  299000            3             3          Semi-D   \n",
       "4  2022-01-28  120000            3             1         Terrace   \n",
       "\n",
       "   propertySize category  AMV_price  sellerId              seller_branch  \\\n",
       "0          96.0      Buy          0    3230.0        Dennehy Auctioneers   \n",
       "1          93.0      Buy          0    2753.0  Tom McDonald & Associates   \n",
       "2         162.0      Buy          0   10950.0                   Moovingo   \n",
       "3           NaN      Buy          0    1374.0           DNG Cusack Dunne   \n",
       "4          68.0      Buy          0    1076.0          REA T & J Gavigan   \n",
       "\n",
       "      sellerType  m_totalImages  m_hasVideo  m_hasVirtualTour  m_hasBrochure  \\\n",
       "0  BRANDED_AGENT           16.0       False             False          False   \n",
       "1  BRANDED_AGENT           33.0       False             False          False   \n",
       "2  BRANDED_AGENT           38.0       False              True          False   \n",
       "3  BRANDED_AGENT           22.0       False             False          False   \n",
       "4  BRANDED_AGENT            5.0       False             False          False   \n",
       "\n",
       "  ber_rating  longitude   latitude  \n",
       "0         C2  -8.382500  51.822940  \n",
       "1         C1  -7.177098  53.157465  \n",
       "2         A3  -6.342763  53.269493  \n",
       "3         C2  -8.640716  52.629588  \n",
       "4          G  -6.879797  53.728601  "
      ]
     },
     "execution_count": 13,
     "metadata": {},
     "output_type": "execute_result"
    }
   ],
   "source": [
    "data.head()"
   ]
  },
  {
   "cell_type": "markdown",
   "id": "c4b4bb81-573b-421c-9fa9-dd371b0afcc8",
   "metadata": {},
   "source": [
    "* #### id is not required, we can work with index.\n",
    "* #### Title is not required.\n",
    "* #### featuredLevel is not required as it only portrays the Ad on the listings website.\n",
    "* #### seller_name is not required as seller_branch is available in the data."
   ]
  },
  {
   "cell_type": "code",
   "execution_count": 12,
   "id": "847d329b-35e1-4350-85b3-371b6afe24e9",
   "metadata": {},
   "outputs": [],
   "source": [
    "data = data.drop(['id', 'title', 'featuredLevel', 'seller_name'], axis=1)"
   ]
  },
  {
   "cell_type": "markdown",
   "id": "61a9c02c-1e69-44af-9246-c12a73e33006",
   "metadata": {},
   "source": [
    "\n",
    "### Data Exploration"
   ]
  },
  {
   "cell_type": "code",
   "execution_count": 14,
   "id": "ec40ed4e-2936-4978-8d30-e6f86540b62d",
   "metadata": {},
   "outputs": [
    {
     "name": "stdout",
     "output_type": "stream",
     "text": [
      "<class 'pandas.core.frame.DataFrame'>\n",
      "RangeIndex: 3967 entries, 0 to 3966\n",
      "Data columns (total 18 columns):\n",
      " #   Column            Non-Null Count  Dtype  \n",
      "---  ------            --------------  -----  \n",
      " 0   publishDate       3967 non-null   object \n",
      " 1   price             3967 non-null   int64  \n",
      " 2   numBedrooms       3967 non-null   int64  \n",
      " 3   numBathrooms      3967 non-null   int64  \n",
      " 4   propertyType      3967 non-null   object \n",
      " 5   propertySize      3612 non-null   float64\n",
      " 6   category          3967 non-null   object \n",
      " 7   AMV_price         3967 non-null   int64  \n",
      " 8   sellerId          3967 non-null   float64\n",
      " 9   seller_branch     3967 non-null   object \n",
      " 10  sellerType        3967 non-null   object \n",
      " 11  m_totalImages     3967 non-null   float64\n",
      " 12  m_hasVideo        3967 non-null   bool   \n",
      " 13  m_hasVirtualTour  3967 non-null   bool   \n",
      " 14  m_hasBrochure     3967 non-null   bool   \n",
      " 15  ber_rating        3967 non-null   object \n",
      " 16  longitude         3967 non-null   float64\n",
      " 17  latitude          3967 non-null   float64\n",
      "dtypes: bool(3), float64(5), int64(4), object(6)\n",
      "memory usage: 476.6+ KB\n"
     ]
    }
   ],
   "source": [
    "data.info()"
   ]
  },
  {
   "cell_type": "markdown",
   "id": "fa16a867-5dc6-4365-beb7-ebf27b404bc9",
   "metadata": {},
   "source": [
    "* #### propertySize is missing around 355 values, which is around 10% of the total, hence dropping the records will impact the performance of our model therefore we need to fill the missing values with mean value."
   ]
  },
  {
   "cell_type": "code",
   "execution_count": 15,
   "id": "cba69751-132d-41d7-bd7f-519db1394632",
   "metadata": {},
   "outputs": [],
   "source": [
    "mean_value = data['propertySize'].mean() \n",
    "data['propertySize'].fillna(value=mean_value, inplace=True)"
   ]
  },
  {
   "cell_type": "code",
   "execution_count": 16,
   "id": "1012dede-e762-4fed-8d33-e30d14cd77af",
   "metadata": {},
   "outputs": [
    {
     "name": "stdout",
     "output_type": "stream",
     "text": [
      "<class 'pandas.core.frame.DataFrame'>\n",
      "RangeIndex: 3967 entries, 0 to 3966\n",
      "Data columns (total 18 columns):\n",
      " #   Column            Non-Null Count  Dtype  \n",
      "---  ------            --------------  -----  \n",
      " 0   publishDate       3967 non-null   object \n",
      " 1   price             3967 non-null   int64  \n",
      " 2   numBedrooms       3967 non-null   int64  \n",
      " 3   numBathrooms      3967 non-null   int64  \n",
      " 4   propertyType      3967 non-null   object \n",
      " 5   propertySize      3967 non-null   float64\n",
      " 6   category          3967 non-null   object \n",
      " 7   AMV_price         3967 non-null   int64  \n",
      " 8   sellerId          3967 non-null   float64\n",
      " 9   seller_branch     3967 non-null   object \n",
      " 10  sellerType        3967 non-null   object \n",
      " 11  m_totalImages     3967 non-null   float64\n",
      " 12  m_hasVideo        3967 non-null   bool   \n",
      " 13  m_hasVirtualTour  3967 non-null   bool   \n",
      " 14  m_hasBrochure     3967 non-null   bool   \n",
      " 15  ber_rating        3967 non-null   object \n",
      " 16  longitude         3967 non-null   float64\n",
      " 17  latitude          3967 non-null   float64\n",
      "dtypes: bool(3), float64(5), int64(4), object(6)\n",
      "memory usage: 476.6+ KB\n"
     ]
    }
   ],
   "source": [
    "data.info()"
   ]
  },
  {
   "cell_type": "markdown",
   "id": "9e397b8d-beb8-4607-ae71-56e9bc3517c8",
   "metadata": {},
   "source": [
    "* #### Data is split in the early phase so that we can test our model (which uses train)"
   ]
  },
  {
   "cell_type": "code",
   "execution_count": null,
   "id": "2daa2849-27ce-4a7e-898a-7b4559c09491",
   "metadata": {},
   "outputs": [],
   "source": [
    "from sklearn.model_selection import test_train_split\n",
    "\n",
    "X = data.drop(['price'])\n",
    "y = data['price']"
   ]
  }
 ],
 "metadata": {
  "kernelspec": {
   "display_name": "Python 3 (ipykernel)",
   "language": "python",
   "name": "python3"
  },
  "language_info": {
   "codemirror_mode": {
    "name": "ipython",
    "version": 3
   },
   "file_extension": ".py",
   "mimetype": "text/x-python",
   "name": "python",
   "nbconvert_exporter": "python",
   "pygments_lexer": "ipython3",
   "version": "3.11.7"
  }
 },
 "nbformat": 4,
 "nbformat_minor": 5
}
