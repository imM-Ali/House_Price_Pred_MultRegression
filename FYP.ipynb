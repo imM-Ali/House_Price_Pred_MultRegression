{
 "cells": [
  {
   "cell_type": "code",
   "execution_count": 1,
   "id": "da963d0f-0054-4921-b72e-f100c517b0ab",
   "metadata": {},
   "outputs": [],
   "source": [
    "#pip install geopandas"
   ]
  },
  {
   "cell_type": "code",
   "execution_count": 2,
   "id": "bd9d85c1-7ba6-4458-8e62-e57b75f91576",
   "metadata": {},
   "outputs": [
    {
     "name": "stdout",
     "output_type": "stream",
     "text": [
      "Requirement already satisfied: category_encoders in c:\\users\\ali\\anaconda3\\lib\\site-packages (2.6.3)\n",
      "Requirement already satisfied: numpy>=1.14.0 in c:\\users\\ali\\anaconda3\\lib\\site-packages (from category_encoders) (1.26.4)\n",
      "Requirement already satisfied: scikit-learn>=0.20.0 in c:\\users\\ali\\anaconda3\\lib\\site-packages (from category_encoders) (1.2.2)\n",
      "Requirement already satisfied: scipy>=1.0.0 in c:\\users\\ali\\anaconda3\\lib\\site-packages (from category_encoders) (1.11.4)\n",
      "Requirement already satisfied: statsmodels>=0.9.0 in c:\\users\\ali\\anaconda3\\lib\\site-packages (from category_encoders) (0.14.0)\n",
      "Requirement already satisfied: pandas>=1.0.5 in c:\\users\\ali\\anaconda3\\lib\\site-packages (from category_encoders) (2.1.4)\n",
      "Requirement already satisfied: patsy>=0.5.1 in c:\\users\\ali\\anaconda3\\lib\\site-packages (from category_encoders) (0.5.3)\n",
      "Requirement already satisfied: python-dateutil>=2.8.2 in c:\\users\\ali\\anaconda3\\lib\\site-packages (from pandas>=1.0.5->category_encoders) (2.8.2)\n",
      "Requirement already satisfied: pytz>=2020.1 in c:\\users\\ali\\anaconda3\\lib\\site-packages (from pandas>=1.0.5->category_encoders) (2023.3.post1)\n",
      "Requirement already satisfied: tzdata>=2022.1 in c:\\users\\ali\\anaconda3\\lib\\site-packages (from pandas>=1.0.5->category_encoders) (2023.3)\n",
      "Requirement already satisfied: six in c:\\users\\ali\\anaconda3\\lib\\site-packages (from patsy>=0.5.1->category_encoders) (1.16.0)\n",
      "Requirement already satisfied: joblib>=1.1.1 in c:\\users\\ali\\anaconda3\\lib\\site-packages (from scikit-learn>=0.20.0->category_encoders) (1.2.0)\n",
      "Requirement already satisfied: threadpoolctl>=2.0.0 in c:\\users\\ali\\anaconda3\\lib\\site-packages (from scikit-learn>=0.20.0->category_encoders) (2.2.0)\n",
      "Requirement already satisfied: packaging>=21.3 in c:\\users\\ali\\anaconda3\\lib\\site-packages (from statsmodels>=0.9.0->category_encoders) (23.1)\n",
      "Note: you may need to restart the kernel to use updated packages.\n"
     ]
    }
   ],
   "source": [
    "pip install category_encoders"
   ]
  },
  {
   "cell_type": "code",
   "execution_count": 3,
   "id": "e61edda6-3444-4a07-8bd0-6129dcf39774",
   "metadata": {},
   "outputs": [],
   "source": [
    "import pandas as pd\n",
    "import numpy as np \n",
    "import matplotlib.pyplot as plt\n",
    "import seaborn as sns\n",
    "from sklearn import preprocessing\n",
    "import geopandas as gpd\n",
    "from sklearn.cluster import KMeans\n",
    "from sklearn.model_selection import train_test_split\n",
    "from sklearn.preprocessing import OrdinalEncoder\n",
    "import category_encoders as ce"
   ]
  },
  {
   "cell_type": "code",
   "execution_count": 4,
   "id": "bbf1f0ef-cdcc-4a07-8896-d2921472867e",
   "metadata": {},
   "outputs": [],
   "source": [
    "data = pd.read_csv(\"daft.csv\")"
   ]
  },
  {
   "cell_type": "code",
   "execution_count": 5,
   "id": "ca88e37c-a186-4429-befe-2f82d1e5b3e5",
   "metadata": {},
   "outputs": [
    {
     "data": {
      "text/html": [
       "<div>\n",
       "<style scoped>\n",
       "    .dataframe tbody tr th:only-of-type {\n",
       "        vertical-align: middle;\n",
       "    }\n",
       "\n",
       "    .dataframe tbody tr th {\n",
       "        vertical-align: top;\n",
       "    }\n",
       "\n",
       "    .dataframe thead th {\n",
       "        text-align: right;\n",
       "    }\n",
       "</style>\n",
       "<table border=\"1\" class=\"dataframe\">\n",
       "  <thead>\n",
       "    <tr style=\"text-align: right;\">\n",
       "      <th></th>\n",
       "      <th>id</th>\n",
       "      <th>title</th>\n",
       "      <th>featuredLevel</th>\n",
       "      <th>publishDate</th>\n",
       "      <th>price</th>\n",
       "      <th>numBedrooms</th>\n",
       "      <th>numBathrooms</th>\n",
       "      <th>propertyType</th>\n",
       "      <th>propertySize</th>\n",
       "      <th>category</th>\n",
       "      <th>...</th>\n",
       "      <th>seller_name</th>\n",
       "      <th>seller_branch</th>\n",
       "      <th>sellerType</th>\n",
       "      <th>m_totalImages</th>\n",
       "      <th>m_hasVideo</th>\n",
       "      <th>m_hasVirtualTour</th>\n",
       "      <th>m_hasBrochure</th>\n",
       "      <th>ber_rating</th>\n",
       "      <th>longitude</th>\n",
       "      <th>latitude</th>\n",
       "    </tr>\n",
       "  </thead>\n",
       "  <tbody>\n",
       "    <tr>\n",
       "      <th>0</th>\n",
       "      <td>3626025</td>\n",
       "      <td>11 Chestnut Crescent, Bridgemount, Carrigaline...</td>\n",
       "      <td>featured</td>\n",
       "      <td>2022-01-28</td>\n",
       "      <td>290000</td>\n",
       "      <td>3</td>\n",
       "      <td>3</td>\n",
       "      <td>End of Terrace</td>\n",
       "      <td>96.0</td>\n",
       "      <td>Buy</td>\n",
       "      <td>...</td>\n",
       "      <td>Roy Dennehy</td>\n",
       "      <td>Dennehy Auctioneers</td>\n",
       "      <td>BRANDED_AGENT</td>\n",
       "      <td>16.0</td>\n",
       "      <td>False</td>\n",
       "      <td>False</td>\n",
       "      <td>False</td>\n",
       "      <td>C2</td>\n",
       "      <td>-8.382500</td>\n",
       "      <td>51.822940</td>\n",
       "    </tr>\n",
       "    <tr>\n",
       "      <th>1</th>\n",
       "      <td>3675175</td>\n",
       "      <td>58 The Glen, Kilnacourt Woods, Portarlington, ...</td>\n",
       "      <td>featured</td>\n",
       "      <td>2022-01-28</td>\n",
       "      <td>225000</td>\n",
       "      <td>3</td>\n",
       "      <td>2</td>\n",
       "      <td>Semi-D</td>\n",
       "      <td>93.0</td>\n",
       "      <td>Buy</td>\n",
       "      <td>...</td>\n",
       "      <td>Marie Kiernan</td>\n",
       "      <td>Tom McDonald &amp; Associates</td>\n",
       "      <td>BRANDED_AGENT</td>\n",
       "      <td>33.0</td>\n",
       "      <td>False</td>\n",
       "      <td>False</td>\n",
       "      <td>False</td>\n",
       "      <td>C1</td>\n",
       "      <td>-7.177098</td>\n",
       "      <td>53.157465</td>\n",
       "    </tr>\n",
       "    <tr>\n",
       "      <th>2</th>\n",
       "      <td>3673450</td>\n",
       "      <td>16 Dodderbrook Park, Ballycullen, Dublin 24</td>\n",
       "      <td>featured</td>\n",
       "      <td>2022-01-27</td>\n",
       "      <td>575000</td>\n",
       "      <td>4</td>\n",
       "      <td>3</td>\n",
       "      <td>Semi-D</td>\n",
       "      <td>162.0</td>\n",
       "      <td>Buy</td>\n",
       "      <td>...</td>\n",
       "      <td>Moovingo</td>\n",
       "      <td>Moovingo</td>\n",
       "      <td>BRANDED_AGENT</td>\n",
       "      <td>38.0</td>\n",
       "      <td>False</td>\n",
       "      <td>True</td>\n",
       "      <td>False</td>\n",
       "      <td>A3</td>\n",
       "      <td>-6.342763</td>\n",
       "      <td>53.269493</td>\n",
       "    </tr>\n",
       "    <tr>\n",
       "      <th>3</th>\n",
       "      <td>3649708</td>\n",
       "      <td>31 Lissanalta Drive, Dooradoyle, Co. Limerick</td>\n",
       "      <td>featured</td>\n",
       "      <td>2022-01-28</td>\n",
       "      <td>299000</td>\n",
       "      <td>3</td>\n",
       "      <td>3</td>\n",
       "      <td>Semi-D</td>\n",
       "      <td>NaN</td>\n",
       "      <td>Buy</td>\n",
       "      <td>...</td>\n",
       "      <td>DNG Cusack Dunne</td>\n",
       "      <td>DNG Cusack Dunne</td>\n",
       "      <td>BRANDED_AGENT</td>\n",
       "      <td>22.0</td>\n",
       "      <td>False</td>\n",
       "      <td>False</td>\n",
       "      <td>False</td>\n",
       "      <td>C2</td>\n",
       "      <td>-8.640716</td>\n",
       "      <td>52.629588</td>\n",
       "    </tr>\n",
       "    <tr>\n",
       "      <th>4</th>\n",
       "      <td>3643947</td>\n",
       "      <td>5 Columba Terrace, Kells, Co. Meath</td>\n",
       "      <td>featured</td>\n",
       "      <td>2022-01-28</td>\n",
       "      <td>120000</td>\n",
       "      <td>3</td>\n",
       "      <td>1</td>\n",
       "      <td>Terrace</td>\n",
       "      <td>68.0</td>\n",
       "      <td>Buy</td>\n",
       "      <td>...</td>\n",
       "      <td>REA T&amp;J Gavigan</td>\n",
       "      <td>REA T &amp; J Gavigan</td>\n",
       "      <td>BRANDED_AGENT</td>\n",
       "      <td>5.0</td>\n",
       "      <td>False</td>\n",
       "      <td>False</td>\n",
       "      <td>False</td>\n",
       "      <td>G</td>\n",
       "      <td>-6.879797</td>\n",
       "      <td>53.728601</td>\n",
       "    </tr>\n",
       "  </tbody>\n",
       "</table>\n",
       "<p>5 rows × 22 columns</p>\n",
       "</div>"
      ],
      "text/plain": [
       "        id                                              title featuredLevel  \\\n",
       "0  3626025  11 Chestnut Crescent, Bridgemount, Carrigaline...      featured   \n",
       "1  3675175  58 The Glen, Kilnacourt Woods, Portarlington, ...      featured   \n",
       "2  3673450        16 Dodderbrook Park, Ballycullen, Dublin 24      featured   \n",
       "3  3649708      31 Lissanalta Drive, Dooradoyle, Co. Limerick      featured   \n",
       "4  3643947                5 Columba Terrace, Kells, Co. Meath      featured   \n",
       "\n",
       "  publishDate   price  numBedrooms  numBathrooms    propertyType  \\\n",
       "0  2022-01-28  290000            3             3  End of Terrace   \n",
       "1  2022-01-28  225000            3             2          Semi-D   \n",
       "2  2022-01-27  575000            4             3          Semi-D   \n",
       "3  2022-01-28  299000            3             3          Semi-D   \n",
       "4  2022-01-28  120000            3             1         Terrace   \n",
       "\n",
       "   propertySize category  ...       seller_name              seller_branch  \\\n",
       "0          96.0      Buy  ...       Roy Dennehy        Dennehy Auctioneers   \n",
       "1          93.0      Buy  ...     Marie Kiernan  Tom McDonald & Associates   \n",
       "2         162.0      Buy  ...          Moovingo                   Moovingo   \n",
       "3           NaN      Buy  ...  DNG Cusack Dunne           DNG Cusack Dunne   \n",
       "4          68.0      Buy  ...   REA T&J Gavigan          REA T & J Gavigan   \n",
       "\n",
       "      sellerType m_totalImages m_hasVideo  m_hasVirtualTour  m_hasBrochure  \\\n",
       "0  BRANDED_AGENT          16.0      False             False          False   \n",
       "1  BRANDED_AGENT          33.0      False             False          False   \n",
       "2  BRANDED_AGENT          38.0      False              True          False   \n",
       "3  BRANDED_AGENT          22.0      False             False          False   \n",
       "4  BRANDED_AGENT           5.0      False             False          False   \n",
       "\n",
       "   ber_rating  longitude   latitude  \n",
       "0          C2  -8.382500  51.822940  \n",
       "1          C1  -7.177098  53.157465  \n",
       "2          A3  -6.342763  53.269493  \n",
       "3          C2  -8.640716  52.629588  \n",
       "4           G  -6.879797  53.728601  \n",
       "\n",
       "[5 rows x 22 columns]"
      ]
     },
     "execution_count": 5,
     "metadata": {},
     "output_type": "execute_result"
    }
   ],
   "source": [
    "data.head()"
   ]
  },
  {
   "cell_type": "markdown",
   "id": "fcbd53e7-0254-41fd-9d82-d48d992b004e",
   "metadata": {},
   "source": [
    "#### Data Explanation"
   ]
  },
  {
   "cell_type": "markdown",
   "id": "69202f88-ee2d-4089-853f-f83f79e7841a",
   "metadata": {},
   "source": [
    "#### Data Source : Daft.ie\n",
    "* id: Property listing id used in the website\n",
    "* title: property address.\n",
    "* featuredLevel: ['featured' 'premium' 'standard']\n",
    "* publishDate: published date for the listing.\n",
    "* price: house price.\n",
    "* numBedrooms: No. of bedrooms.\n",
    "* numBathrooms: No. of bathroom.\n",
    "* propertyType: ['End of Terrace' 'Semi-D' 'Terrace' 'Detached' 'Apartment' 'Bungalow' \n",
    "'Townhouse' 'Duplex' 'Site' 'Studio' 'House'.\n",
    "* propertySize: Size of the property in meters squared\n",
    "* category: ['Buy' 'New Homes'] (Buy means the houses listed under Buy menu in the websites)\n",
    "* AMVprice: Advised minimum value (some properties have AMV price. The price column was mixed with regular price and AMV price, created a new column for AMV price to flag if it is AMV or not.)\n",
    "* sellerId: Seller's Id\n",
    "* sellername: Seller's name\n",
    "* sellerbranch: Seller's branch if it is an agency.\n",
    "* sellerType: ['BRANDEDAGENT' 'UNBRANDEDAGENT' 'PRIVATEUSER']\n",
    "* m_totalImages: Total images posted on the website.\n",
    "* m_hasVideo: Whether the property posted a video or not.\n",
    "* m_hasVirtualTour: Whether the property has a virtual tour or not.\n",
    "* m_hasBrochure: Whether the property has a brochure or not.\n",
    "* longitude: Coordinate\n",
    "* latitude: Coordinate\n",
    "* ber_rating: ['C2' 'C1' 'A3' 'G' 'D2' 'B3' 'D1' 'C3' 'E1' 'SI666' 'F' 'E2' 'B2' 'XXX', 'A2,''B1' 'A1' 'A1A2']\r\n",
    "(XXX means the rating was missing)\n",
    "] "
   ]
  },
  {
   "cell_type": "markdown",
   "id": "f889e314-ec5d-45f5-a336-d8367083dc42",
   "metadata": {},
   "source": [
    "#### Quick peek into the data"
   ]
  },
  {
   "cell_type": "code",
   "execution_count": 6,
   "id": "d0fe648e-8f17-461f-9391-ae423ae4f2df",
   "metadata": {},
   "outputs": [
    {
     "name": "stdout",
     "output_type": "stream",
     "text": [
      "<class 'pandas.core.frame.DataFrame'>\n",
      "RangeIndex: 3967 entries, 0 to 3966\n",
      "Data columns (total 22 columns):\n",
      " #   Column            Non-Null Count  Dtype  \n",
      "---  ------            --------------  -----  \n",
      " 0   id                3967 non-null   int64  \n",
      " 1   title             3967 non-null   object \n",
      " 2   featuredLevel     3967 non-null   object \n",
      " 3   publishDate       3967 non-null   object \n",
      " 4   price             3967 non-null   int64  \n",
      " 5   numBedrooms       3967 non-null   int64  \n",
      " 6   numBathrooms      3967 non-null   int64  \n",
      " 7   propertyType      3967 non-null   object \n",
      " 8   propertySize      3612 non-null   float64\n",
      " 9   category          3967 non-null   object \n",
      " 10  AMV_price         3967 non-null   int64  \n",
      " 11  sellerId          3967 non-null   float64\n",
      " 12  seller_name       3967 non-null   object \n",
      " 13  seller_branch     3967 non-null   object \n",
      " 14  sellerType        3967 non-null   object \n",
      " 15  m_totalImages     3967 non-null   float64\n",
      " 16  m_hasVideo        3967 non-null   bool   \n",
      " 17  m_hasVirtualTour  3967 non-null   bool   \n",
      " 18  m_hasBrochure     3967 non-null   bool   \n",
      " 19  ber_rating        3967 non-null   object \n",
      " 20  longitude         3967 non-null   float64\n",
      " 21  latitude          3967 non-null   float64\n",
      "dtypes: bool(3), float64(5), int64(5), object(9)\n",
      "memory usage: 600.6+ KB\n"
     ]
    }
   ],
   "source": [
    "data.info()"
   ]
  },
  {
   "cell_type": "markdown",
   "id": "80517378-ab4d-45c6-9e3f-ec429c686755",
   "metadata": {},
   "source": [
    "#### Categorical Data\n",
    "* featuredLevel, propertyType, category,  sellerType, seller_branch, seller_name, ber_rating, title, id, sellerId, m_hasVideo, m_hasBrochure, m_hasVirtualTour             \n",
    "#### Numerical Data\n",
    "Continouous:\n",
    "* price, numBedrooms, numBathrooms, latitude, longitude, m_totalImages, AMV_price, , propertySize.\n",
    "\n",
    "Disrete:\n",
    "* publishDate"
   ]
  },
  {
   "cell_type": "code",
   "execution_count": 7,
   "id": "c688a7dd-0e32-43f9-8f5a-e58b4b3797e5",
   "metadata": {},
   "outputs": [
    {
     "data": {
      "text/html": [
       "<div>\n",
       "<style scoped>\n",
       "    .dataframe tbody tr th:only-of-type {\n",
       "        vertical-align: middle;\n",
       "    }\n",
       "\n",
       "    .dataframe tbody tr th {\n",
       "        vertical-align: top;\n",
       "    }\n",
       "\n",
       "    .dataframe thead th {\n",
       "        text-align: right;\n",
       "    }\n",
       "</style>\n",
       "<table border=\"1\" class=\"dataframe\">\n",
       "  <thead>\n",
       "    <tr style=\"text-align: right;\">\n",
       "      <th></th>\n",
       "      <th>count</th>\n",
       "      <th>mean</th>\n",
       "      <th>std</th>\n",
       "      <th>min</th>\n",
       "      <th>25%</th>\n",
       "      <th>50%</th>\n",
       "      <th>75%</th>\n",
       "      <th>max</th>\n",
       "    </tr>\n",
       "  </thead>\n",
       "  <tbody>\n",
       "    <tr>\n",
       "      <th>id</th>\n",
       "      <td>3967.0</td>\n",
       "      <td>3.629047e+06</td>\n",
       "      <td>250247.854757</td>\n",
       "      <td>10921.000000</td>\n",
       "      <td>3.654066e+06</td>\n",
       "      <td>3.673795e+06</td>\n",
       "      <td>3.685990e+06</td>\n",
       "      <td>3.695402e+06</td>\n",
       "    </tr>\n",
       "    <tr>\n",
       "      <th>price</th>\n",
       "      <td>3967.0</td>\n",
       "      <td>3.416734e+05</td>\n",
       "      <td>270358.241779</td>\n",
       "      <td>20000.000000</td>\n",
       "      <td>1.950000e+05</td>\n",
       "      <td>2.750000e+05</td>\n",
       "      <td>3.950000e+05</td>\n",
       "      <td>4.500000e+06</td>\n",
       "    </tr>\n",
       "    <tr>\n",
       "      <th>numBedrooms</th>\n",
       "      <td>3967.0</td>\n",
       "      <td>3.126292e+00</td>\n",
       "      <td>1.230570</td>\n",
       "      <td>1.000000</td>\n",
       "      <td>2.000000e+00</td>\n",
       "      <td>3.000000e+00</td>\n",
       "      <td>4.000000e+00</td>\n",
       "      <td>2.300000e+01</td>\n",
       "    </tr>\n",
       "    <tr>\n",
       "      <th>numBathrooms</th>\n",
       "      <td>3967.0</td>\n",
       "      <td>2.077136e+00</td>\n",
       "      <td>1.167772</td>\n",
       "      <td>1.000000</td>\n",
       "      <td>1.000000e+00</td>\n",
       "      <td>2.000000e+00</td>\n",
       "      <td>3.000000e+00</td>\n",
       "      <td>2.300000e+01</td>\n",
       "    </tr>\n",
       "    <tr>\n",
       "      <th>propertySize</th>\n",
       "      <td>3612.0</td>\n",
       "      <td>1.326739e+02</td>\n",
       "      <td>295.246580</td>\n",
       "      <td>1.000000</td>\n",
       "      <td>7.800000e+01</td>\n",
       "      <td>1.030000e+02</td>\n",
       "      <td>1.370000e+02</td>\n",
       "      <td>8.600000e+03</td>\n",
       "    </tr>\n",
       "    <tr>\n",
       "      <th>AMV_price</th>\n",
       "      <td>3967.0</td>\n",
       "      <td>4.739098e-02</td>\n",
       "      <td>0.212500</td>\n",
       "      <td>0.000000</td>\n",
       "      <td>0.000000e+00</td>\n",
       "      <td>0.000000e+00</td>\n",
       "      <td>0.000000e+00</td>\n",
       "      <td>1.000000e+00</td>\n",
       "    </tr>\n",
       "    <tr>\n",
       "      <th>sellerId</th>\n",
       "      <td>3967.0</td>\n",
       "      <td>2.163815e+04</td>\n",
       "      <td>254150.598747</td>\n",
       "      <td>7.000000</td>\n",
       "      <td>2.178000e+03</td>\n",
       "      <td>3.255000e+03</td>\n",
       "      <td>8.806000e+03</td>\n",
       "      <td>5.310328e+06</td>\n",
       "    </tr>\n",
       "    <tr>\n",
       "      <th>m_totalImages</th>\n",
       "      <td>3967.0</td>\n",
       "      <td>1.844895e+01</td>\n",
       "      <td>10.537226</td>\n",
       "      <td>0.000000</td>\n",
       "      <td>1.200000e+01</td>\n",
       "      <td>1.700000e+01</td>\n",
       "      <td>2.300000e+01</td>\n",
       "      <td>1.040000e+02</td>\n",
       "    </tr>\n",
       "    <tr>\n",
       "      <th>longitude</th>\n",
       "      <td>3967.0</td>\n",
       "      <td>-7.389964e+00</td>\n",
       "      <td>1.865587</td>\n",
       "      <td>-100.445882</td>\n",
       "      <td>-8.426627e+00</td>\n",
       "      <td>-7.050391e+00</td>\n",
       "      <td>-6.298945e+00</td>\n",
       "      <td>-6.028016e+00</td>\n",
       "    </tr>\n",
       "    <tr>\n",
       "      <th>latitude</th>\n",
       "      <td>3967.0</td>\n",
       "      <td>5.313382e+01</td>\n",
       "      <td>0.716435</td>\n",
       "      <td>39.783730</td>\n",
       "      <td>5.266612e+01</td>\n",
       "      <td>5.330335e+01</td>\n",
       "      <td>5.343872e+01</td>\n",
       "      <td>5.529969e+01</td>\n",
       "    </tr>\n",
       "  </tbody>\n",
       "</table>\n",
       "</div>"
      ],
      "text/plain": [
       "                count          mean            std           min  \\\n",
       "id             3967.0  3.629047e+06  250247.854757  10921.000000   \n",
       "price          3967.0  3.416734e+05  270358.241779  20000.000000   \n",
       "numBedrooms    3967.0  3.126292e+00       1.230570      1.000000   \n",
       "numBathrooms   3967.0  2.077136e+00       1.167772      1.000000   \n",
       "propertySize   3612.0  1.326739e+02     295.246580      1.000000   \n",
       "AMV_price      3967.0  4.739098e-02       0.212500      0.000000   \n",
       "sellerId       3967.0  2.163815e+04  254150.598747      7.000000   \n",
       "m_totalImages  3967.0  1.844895e+01      10.537226      0.000000   \n",
       "longitude      3967.0 -7.389964e+00       1.865587   -100.445882   \n",
       "latitude       3967.0  5.313382e+01       0.716435     39.783730   \n",
       "\n",
       "                        25%           50%           75%           max  \n",
       "id             3.654066e+06  3.673795e+06  3.685990e+06  3.695402e+06  \n",
       "price          1.950000e+05  2.750000e+05  3.950000e+05  4.500000e+06  \n",
       "numBedrooms    2.000000e+00  3.000000e+00  4.000000e+00  2.300000e+01  \n",
       "numBathrooms   1.000000e+00  2.000000e+00  3.000000e+00  2.300000e+01  \n",
       "propertySize   7.800000e+01  1.030000e+02  1.370000e+02  8.600000e+03  \n",
       "AMV_price      0.000000e+00  0.000000e+00  0.000000e+00  1.000000e+00  \n",
       "sellerId       2.178000e+03  3.255000e+03  8.806000e+03  5.310328e+06  \n",
       "m_totalImages  1.200000e+01  1.700000e+01  2.300000e+01  1.040000e+02  \n",
       "longitude     -8.426627e+00 -7.050391e+00 -6.298945e+00 -6.028016e+00  \n",
       "latitude       5.266612e+01  5.330335e+01  5.343872e+01  5.529969e+01  "
      ]
     },
     "execution_count": 7,
     "metadata": {},
     "output_type": "execute_result"
    }
   ],
   "source": [
    "data.describe().transpose()"
   ]
  },
  {
   "cell_type": "markdown",
   "id": "646c2c8a-098d-4c10-87ef-8aad41e38a35",
   "metadata": {},
   "source": [
    "#### Checking for Null Values"
   ]
  },
  {
   "cell_type": "code",
   "execution_count": 8,
   "id": "f1a33c46-86e1-4218-8e01-700acdb81997",
   "metadata": {},
   "outputs": [
    {
     "name": "stdout",
     "output_type": "stream",
     "text": [
      "-  propertySize\n"
     ]
    }
   ],
   "source": [
    "for i in data[data.columns[data.isnull().any()]].columns:\n",
    "    print('- ',i)"
   ]
  },
  {
   "cell_type": "markdown",
   "id": "d6495c69-7f34-4ccd-9482-6bbb19ea0b71",
   "metadata": {},
   "source": [
    "#### propertySize is missing around 355 values, which is around 10% of the total, hence dropping the records will impact the performance of our model therefore we need to fill the missing values with the median value.\n",
    "If the data is heavily skewed or has outliers, the median is a better choice as it is robust to extreme values. The median represents the middle value and is less influenced by extreme observations."
   ]
  },
  {
   "cell_type": "code",
   "execution_count": 9,
   "id": "cba69751-132d-41d7-bd7f-519db1394632",
   "metadata": {},
   "outputs": [],
   "source": [
    "median_value = data['propertySize'].median() \n",
    "data['propertySize'].fillna(value=median_value, inplace=True)"
   ]
  },
  {
   "cell_type": "code",
   "execution_count": 10,
   "id": "1012dede-e762-4fed-8d33-e30d14cd77af",
   "metadata": {},
   "outputs": [
    {
     "name": "stdout",
     "output_type": "stream",
     "text": [
      "<class 'pandas.core.frame.DataFrame'>\n",
      "RangeIndex: 3967 entries, 0 to 3966\n",
      "Data columns (total 22 columns):\n",
      " #   Column            Non-Null Count  Dtype  \n",
      "---  ------            --------------  -----  \n",
      " 0   id                3967 non-null   int64  \n",
      " 1   title             3967 non-null   object \n",
      " 2   featuredLevel     3967 non-null   object \n",
      " 3   publishDate       3967 non-null   object \n",
      " 4   price             3967 non-null   int64  \n",
      " 5   numBedrooms       3967 non-null   int64  \n",
      " 6   numBathrooms      3967 non-null   int64  \n",
      " 7   propertyType      3967 non-null   object \n",
      " 8   propertySize      3967 non-null   float64\n",
      " 9   category          3967 non-null   object \n",
      " 10  AMV_price         3967 non-null   int64  \n",
      " 11  sellerId          3967 non-null   float64\n",
      " 12  seller_name       3967 non-null   object \n",
      " 13  seller_branch     3967 non-null   object \n",
      " 14  sellerType        3967 non-null   object \n",
      " 15  m_totalImages     3967 non-null   float64\n",
      " 16  m_hasVideo        3967 non-null   bool   \n",
      " 17  m_hasVirtualTour  3967 non-null   bool   \n",
      " 18  m_hasBrochure     3967 non-null   bool   \n",
      " 19  ber_rating        3967 non-null   object \n",
      " 20  longitude         3967 non-null   float64\n",
      " 21  latitude          3967 non-null   float64\n",
      "dtypes: bool(3), float64(5), int64(5), object(9)\n",
      "memory usage: 600.6+ KB\n"
     ]
    }
   ],
   "source": [
    "data.info()"
   ]
  },
  {
   "cell_type": "markdown",
   "id": "7390eb2e-65da-4228-83b5-3fd0b4dd5f11",
   "metadata": {},
   "source": [
    "#### Price Distribution"
   ]
  },
  {
   "cell_type": "code",
   "execution_count": 11,
   "id": "0f44eb76-ffcc-4f1d-ab2b-7ba0f40539ae",
   "metadata": {},
   "outputs": [
    {
     "data": {
      "text/plain": [
       "<Figure size 1000x600 with 0 Axes>"
      ]
     },
     "metadata": {},
     "output_type": "display_data"
    },
    {
     "data": {
      "image/png": "[encoded data removed]",
      "text/plain": [
       "<Figure size 500x500 with 1 Axes>"
      ]
     },
     "metadata": {},
     "output_type": "display_data"
    }
   ],
   "source": [
    "plt.figure(figsize=(10, 6))\n",
    "sns.displot(data['price'])\n",
    "plt.ticklabel_format(style='plain', axis='x')"
   ]
  },
  {
   "cell_type": "markdown",
   "id": "53ebdd59-7ab5-4cda-a1ea-1c0d6be3a726",
   "metadata": {},
   "source": [
    "* Majority of the house pricing is under half a million. With a few houses being nearly 3 million!\n",
    "* Price is heavily right skewed"
   ]
  },
  {
   "cell_type": "markdown",
   "id": "146588e0-1d55-4ab0-9537-7ec4b9e971b8",
   "metadata": {},
   "source": [
    "#### Price vs Size of property"
   ]
  },
  {
   "cell_type": "code",
   "execution_count": 12,
   "id": "6a28ee54-0a24-447e-a4ee-8b09ab9e8523",
   "metadata": {},
   "outputs": [
    {
     "data": {
      "image/png": "[encoded data removed]",
      "text/plain": [
       "<Figure size 1000x600 with 1 Axes>"
      ]
     },
     "metadata": {},
     "output_type": "display_data"
    }
   ],
   "source": [
    "plt.figure(figsize=(10, 6))\n",
    "sns.scatterplot(x=\"price\", y=\"propertySize\", data=data)\n",
    "plt.ticklabel_format(style='plain', axis='y')"
   ]
  },
  {
   "cell_type": "markdown",
   "id": "d6b33ec4-491c-4fd5-9d24-183645e9345b",
   "metadata": {},
   "source": [
    "* In the cluster, a weak trend of increasing prices with increasing property size can be seen. However, there are few records where the property size has increased but the price is still near the lowest. This could indicate errors in the data.\n",
    "\n",
    "#### Number of Bedrooms vs Price"
   ]
  },
  {
   "cell_type": "code",
   "execution_count": 13,
   "id": "3fea0233-056c-4a45-acbc-0806dba50556",
   "metadata": {},
   "outputs": [
    {
     "data": {
      "text/plain": [
       "<Axes: xlabel='numBedrooms', ylabel='price'>"
      ]
     },
     "execution_count": 13,
     "metadata": {},
     "output_type": "execute_result"
    },
    {
     "data": {
      "image/png": "[encoded data removed]",
      "text/plain": [
       "<Figure size 1000x600 with 1 Axes>"
      ]
     },
     "metadata": {},
     "output_type": "display_data"
    }
   ],
   "source": [
    "plt.figure(figsize=(10, 6))\n",
    "sns.boxplot(data=data, x=\"numBedrooms\", y=\"price\")"
   ]
  },
  {
   "cell_type": "markdown",
   "id": "a21d15b3-260a-40d9-bed2-163cb133e8b5",
   "metadata": {},
   "source": [
    "* We can see that the prices tend to go up with the number of bedrooms.\n",
    "* The price variance in houses with lower number of bedrooms is lower as compared to the variance in prices of houses with high number of bedrooms.\n",
    "* Visible values that are outside of the 75th percentile."
   ]
  },
  {
   "cell_type": "code",
   "execution_count": 14,
   "id": "f6cdfd30-7f98-4d72-a5d1-585aecc4ea55",
   "metadata": {},
   "outputs": [],
   "source": [
    "grouped_data = data.groupby('ber_rating')['price'].mean().reset_index()"
   ]
  },
  {
   "cell_type": "code",
   "execution_count": 15,
   "id": "b41268f2-11c7-4fbd-a93f-b4a0f1e5850b",
   "metadata": {},
   "outputs": [
    {
     "data": {
      "image/png": "[encoded data removed]",
      "text/plain": [
       "<Figure size 1000x600 with 1 Axes>"
      ]
     },
     "metadata": {},
     "output_type": "display_data"
    }
   ],
   "source": [
    "plt.figure(figsize=(10, 6))\n",
    "sns.barplot(x='ber_rating', y='price', data=grouped_data)\n",
    "plt.xlabel('BER Rating')\n",
    "plt.ylabel('Price')\n",
    "plt.title('Average House Price by Energy Rating')\n",
    "plt.tight_layout()"
   ]
  },
  {
   "cell_type": "markdown",
   "id": "06544d7d-d44f-496b-a870-95002d1fa899",
   "metadata": {},
   "source": [
    "* According to https://www.seai.ie/home-energy/building-energy-rating-ber/understand-a-ber-rating , Sl_666 and XXX are possible errors.\n",
    "* The average size house rating in ireland is D2, we can see that prices take a dip around this area which shows market competition.\n",
    "* The price of A1A2 rated house seems lower than the average, considering A1A2 is not a real rating, this will be explored further."
   ]
  },
  {
   "cell_type": "markdown",
   "id": "e45013f2-ede0-4ff9-addd-63d47f595208",
   "metadata": {},
   "source": [
    "#### Price Trends Respective to the Type of Property"
   ]
  },
  {
   "cell_type": "code",
   "execution_count": 16,
   "id": "01684654-9d4f-4a0d-a621-bcfbce40fd7a",
   "metadata": {},
   "outputs": [
    {
     "data": {
      "text/plain": [
       "<Axes: xlabel='propertyType', ylabel='price'>"
      ]
     },
     "execution_count": 16,
     "metadata": {},
     "output_type": "execute_result"
    },
    {
     "data": {
      "image/png": "[encoded data removed]",
      "text/plain": [
       "<Figure size 1500x600 with 1 Axes>"
      ]
     },
     "metadata": {},
     "output_type": "display_data"
    }
   ],
   "source": [
    "plt.figure(figsize=(15, 6))\n",
    "grouped_data = data.groupby('propertyType')['price'].mean().reset_index()\n",
    "sns.boxplot(x='propertyType',y='price',data=grouped_data)"
   ]
  },
  {
   "cell_type": "markdown",
   "id": "8cb3363c-ee4d-443a-900d-4521f0318bd9",
   "metadata": {},
   "source": [
    "* As per daft.ie, a 'House' is any property irrelevant of its type. Following this, the average price for a 'house' should be in the middle of all other values, but in the figure above, it is the highest averaging type, which shows the presence of outliers.\n",
    "* Detached houses are the most costly, whereas studios are the cheapest to buy."
   ]
  },
  {
   "cell_type": "markdown",
   "id": "afce4b29-b772-4fbd-9e56-016ef0446443",
   "metadata": {},
   "source": [
    "#### Biggest Market Share By Investor"
   ]
  },
  {
   "cell_type": "code",
   "execution_count": 17,
   "id": "2a0364fc-fb9c-45ef-b98d-e5b1bfc7713a",
   "metadata": {},
   "outputs": [],
   "source": [
    "grouped_data = data.groupby('seller_branch')['price'].sum().reset_index()\n",
    "grouped_data = grouped_data.sort_values(by=['price'], ascending=False)\n",
    "top_5 = grouped_data.head(5)"
   ]
  },
  {
   "cell_type": "code",
   "execution_count": 18,
   "id": "c53f2ecc-7367-4461-bf8d-2f6bf4bfd7fc",
   "metadata": {},
   "outputs": [
    {
     "data": {
      "image/png": "[encoded data removed]",
      "text/plain": [
       "<Figure size 2200x1000 with 1 Axes>"
      ]
     },
     "metadata": {},
     "output_type": "display_data"
    }
   ],
   "source": [
    "plt.figure(figsize=(22, 10))\n",
    "sns.barplot(top_5, x=\"seller_branch\", y=\"price\")\n",
    "plt.ticklabel_format(style='plain', axis='y')"
   ]
  },
  {
   "cell_type": "markdown",
   "id": "6046bb47-32ca-4782-9f53-4c7880a51523",
   "metadata": {},
   "source": [
    "* BidX1 has the largest market share of 40 million!\n",
    "* Private owners have the 4th highest share of properties."
   ]
  },
  {
   "cell_type": "markdown",
   "id": "02a53fb7-c76b-45e2-abeb-0d2f8fb013ff",
   "metadata": {},
   "source": [
    "#### Feature Engineering"
   ]
  },
  {
   "cell_type": "markdown",
   "id": "dcdb40af-dc02-428b-be47-772bbd71401f",
   "metadata": {},
   "source": [
    "* Converting Date to DateTime and splitting into Year and Month"
   ]
  },
  {
   "cell_type": "code",
   "execution_count": 19,
   "id": "3025d7dd-257b-429d-9c81-7c8a0313de78",
   "metadata": {},
   "outputs": [],
   "source": [
    "data['publishDate'] = pd.to_datetime(data['publishDate'])"
   ]
  },
  {
   "cell_type": "code",
   "execution_count": 20,
   "id": "a85f2bb7-dd89-4de4-9073-a3b53e75fa34",
   "metadata": {},
   "outputs": [],
   "source": [
    "data['year'] = data['publishDate'].dt.year\n",
    "data['month'] = data['publishDate'].dt.month\n",
    "\n",
    "data.drop(['publishDate'], axis=1, inplace = True)"
   ]
  },
  {
   "cell_type": "markdown",
   "id": "1880b8ff-a818-49da-aa46-a642af7ce4a9",
   "metadata": {},
   "source": [
    "* Using clustering to replace latitude and longitude with a location cluster as the co-ordinates themselves do not present any usability for ML according to the source below.\n",
    "\n",
    "https://heartbeat.comet.ml/working-with-geospatial-data-in-machine-learning-ad4097c7228d"
   ]
  },
  {
   "cell_type": "code",
   "execution_count": 21,
   "id": "2df82e6d-dfe6-4db9-9c9a-d2632259622f",
   "metadata": {},
   "outputs": [
    {
     "name": "stderr",
     "output_type": "stream",
     "text": [
      "C:\\Users\\Ali\\anaconda3\\Lib\\site-packages\\sklearn\\cluster\\_kmeans.py:870: FutureWarning: The default value of `n_init` will change from 10 to 'auto' in 1.4. Set the value of `n_init` explicitly to suppress the warning\n",
      "  warnings.warn(\n",
      "C:\\Users\\Ali\\anaconda3\\Lib\\site-packages\\sklearn\\cluster\\_kmeans.py:1382: UserWarning: KMeans is known to have a memory leak on Windows with MKL, when there are less chunks than available threads. You can avoid it by setting the environment variable OMP_NUM_THREADS=16.\n",
      "  warnings.warn(\n"
     ]
    }
   ],
   "source": [
    "kmeans = KMeans(5)\n",
    "clusters = kmeans.fit_predict(data[['latitude','longitude']])\n",
    "data['zone'] = kmeans.predict(data[['latitude','longitude']])\n",
    "data.drop(['latitude', 'longitude'], axis=1, inplace = True)"
   ]
  },
  {
   "cell_type": "markdown",
   "id": "38355863-d7c1-4609-8afe-2ce23695f9ed",
   "metadata": {},
   "source": [
    "* Extracting county and Town from Address."
   ]
  },
  {
   "cell_type": "code",
   "execution_count": 22,
   "id": "a79e9ebe-cd5d-4f99-a728-3b6f6226eeb4",
   "metadata": {},
   "outputs": [],
   "source": [
    "def getCounty(title):\n",
    "    address_parts = title.split(',')\n",
    "    return address_parts[-1].strip()"
   ]
  },
  {
   "cell_type": "code",
   "execution_count": 23,
   "id": "19f7001f-e271-4f7c-8400-5b4b4d4e8e50",
   "metadata": {},
   "outputs": [],
   "source": [
    "def getTown(title):\n",
    "    address_parts = title.split(',')\n",
    "    return address_parts[-2].strip()"
   ]
  },
  {
   "cell_type": "code",
   "execution_count": 24,
   "id": "efb631da-32ad-4ce9-830c-c3f042cbcab1",
   "metadata": {},
   "outputs": [],
   "source": [
    "data['county'] = data['title'].apply(getCounty)\n",
    "data['town'] = data['title'].apply(getTown)"
   ]
  },
  {
   "cell_type": "code",
   "execution_count": 25,
   "id": "538caba1-3623-49ee-b7bb-63af83214573",
   "metadata": {},
   "outputs": [],
   "source": [
    "data.drop(['title'], axis=1, inplace = True)"
   ]
  },
  {
   "cell_type": "code",
   "execution_count": 26,
   "id": "d6500d77-6e23-4694-b511-74dee5a7f5f0",
   "metadata": {},
   "outputs": [],
   "source": [
    "data['county'] = data['county'].str.replace('Co. ', '')"
   ]
  },
  {
   "cell_type": "code",
   "execution_count": 27,
   "id": "33dcb50f-3cc8-4e7f-bd57-e528574c4545",
   "metadata": {},
   "outputs": [],
   "source": [
    "data['county'] = data['county'].str.extract(r'([a-zA-Z]+)')"
   ]
  },
  {
   "cell_type": "code",
   "execution_count": 28,
   "id": "16e3e814-0e62-476a-be75-e25ff54e18d0",
   "metadata": {},
   "outputs": [],
   "source": [
    "data['town'] = data['town'].str.extract(r'([a-zA-Z]+)')"
   ]
  },
  {
   "cell_type": "code",
   "execution_count": 29,
   "id": "8eea7d32-23ab-44f5-be7d-03776ae9bdbb",
   "metadata": {},
   "outputs": [
    {
     "name": "stdout",
     "output_type": "stream",
     "text": [
      "<class 'pandas.core.frame.DataFrame'>\n",
      "RangeIndex: 3967 entries, 0 to 3966\n",
      "Data columns (total 23 columns):\n",
      " #   Column            Non-Null Count  Dtype  \n",
      "---  ------            --------------  -----  \n",
      " 0   id                3967 non-null   int64  \n",
      " 1   featuredLevel     3967 non-null   object \n",
      " 2   price             3967 non-null   int64  \n",
      " 3   numBedrooms       3967 non-null   int64  \n",
      " 4   numBathrooms      3967 non-null   int64  \n",
      " 5   propertyType      3967 non-null   object \n",
      " 6   propertySize      3967 non-null   float64\n",
      " 7   category          3967 non-null   object \n",
      " 8   AMV_price         3967 non-null   int64  \n",
      " 9   sellerId          3967 non-null   float64\n",
      " 10  seller_name       3967 non-null   object \n",
      " 11  seller_branch     3967 non-null   object \n",
      " 12  sellerType        3967 non-null   object \n",
      " 13  m_totalImages     3967 non-null   float64\n",
      " 14  m_hasVideo        3967 non-null   bool   \n",
      " 15  m_hasVirtualTour  3967 non-null   bool   \n",
      " 16  m_hasBrochure     3967 non-null   bool   \n",
      " 17  ber_rating        3967 non-null   object \n",
      " 18  year              3967 non-null   int32  \n",
      " 19  month             3967 non-null   int32  \n",
      " 20  zone              3967 non-null   int32  \n",
      " 21  county            3967 non-null   object \n",
      " 22  town              3967 non-null   object \n",
      "dtypes: bool(3), float64(3), int32(3), int64(5), object(9)\n",
      "memory usage: 585.1+ KB\n"
     ]
    }
   ],
   "source": [
    "data.info()"
   ]
  },
  {
   "cell_type": "markdown",
   "id": "f114608c-20c8-4057-b289-bee348804dd1",
   "metadata": {},
   "source": [
    "#### Domain Knowledge\n",
    "* Dropping Advertisement ID as it is a daft.ie listing identifier and the ML model may interpret this as a mathematical input.\n",
    "* Example: If a house with id 1 is priced at 200,000 and another house with id 45 is priced at 500,000 the machine learning model might\n",
    "interpret this as if the id goes up, the price will also go up, which is completely incorrect. "
   ]
  },
  {
   "cell_type": "code",
   "execution_count": 30,
   "id": "cfccc53c-0028-447c-b499-177e96e58aa5",
   "metadata": {},
   "outputs": [],
   "source": [
    "data.drop(['id'], axis=1, inplace = True)"
   ]
  },
  {
   "cell_type": "markdown",
   "id": "ad9a854a-42ef-464d-bf60-19be75213228",
   "metadata": {},
   "source": [
    "#### Average House Price by Month"
   ]
  },
  {
   "cell_type": "code",
   "execution_count": 52,
   "id": "a6e834ea-f224-4273-8c83-1893647bd742",
   "metadata": {},
   "outputs": [
    {
     "data": {
      "text/plain": [
       "<Axes: xlabel='month'>"
      ]
     },
     "execution_count": 52,
     "metadata": {},
     "output_type": "execute_result"
    },
    {
     "data": {
      "image/png": "[encoded data removed]",
      "text/plain": [
       "<Figure size 1500x600 with 1 Axes>"
      ]
     },
     "metadata": {},
     "output_type": "display_data"
    }
   ],
   "source": [
    "plt.figure(figsize=(15, 6))\n",
    "data.groupby('month')['price'].mean().plot()"
   ]
  },
  {
   "cell_type": "markdown",
   "id": "89f31990-aae1-4059-a8e7-9e21145c396c",
   "metadata": {},
   "source": [
    "* Price of housing tends to fall by almost 20000 during the last month of the year. "
   ]
  },
  {
   "cell_type": "markdown",
   "id": "fc129757-35ec-4585-83f9-eae65b68334b",
   "metadata": {},
   "source": [
    "#### Test Train Split"
   ]
  },
  {
   "cell_type": "markdown",
   "id": "3a80f526-da9e-4618-b668-e250d3104dbc",
   "metadata": {},
   "source": [
    "https://onlinelibrary.wiley.com/doi/full/10.1002/sam.11583\n",
    "* According to this study, the best test to train split ratio is the square root of number of features to 1. We have 22 features which gives us around 4.6:1 , which means the best split is 75/25."
   ]
  },
  {
   "cell_type": "code",
   "execution_count": 32,
   "id": "40cd183a-4923-4ea0-a0e5-5710cef84aa4",
   "metadata": {},
   "outputs": [],
   "source": [
    "X = data.drop(['price'], axis=1)\n",
    "y = data['price']\n",
    "\n",
    "X_train, X_test, y_train, y_test = train_test_split(X,y, test_size=0.25)"
   ]
  },
  {
   "cell_type": "code",
   "execution_count": 33,
   "id": "03017951-d7ad-4776-bece-24d2d3d15571",
   "metadata": {},
   "outputs": [],
   "source": [
    "train_data = X_train.join(y_train)"
   ]
  },
  {
   "cell_type": "code",
   "execution_count": 34,
   "id": "c4fbbb00-97e5-4da9-aa9e-48f56b99b4e9",
   "metadata": {},
   "outputs": [
    {
     "name": "stdout",
     "output_type": "stream",
     "text": [
      "<class 'pandas.core.frame.DataFrame'>\n",
      "Index: 2975 entries, 3880 to 19\n",
      "Data columns (total 22 columns):\n",
      " #   Column            Non-Null Count  Dtype  \n",
      "---  ------            --------------  -----  \n",
      " 0   featuredLevel     2975 non-null   object \n",
      " 1   numBedrooms       2975 non-null   int64  \n",
      " 2   numBathrooms      2975 non-null   int64  \n",
      " 3   propertyType      2975 non-null   object \n",
      " 4   propertySize      2975 non-null   float64\n",
      " 5   category          2975 non-null   object \n",
      " 6   AMV_price         2975 non-null   int64  \n",
      " 7   sellerId          2975 non-null   float64\n",
      " 8   seller_name       2975 non-null   object \n",
      " 9   seller_branch     2975 non-null   object \n",
      " 10  sellerType        2975 non-null   object \n",
      " 11  m_totalImages     2975 non-null   float64\n",
      " 12  m_hasVideo        2975 non-null   bool   \n",
      " 13  m_hasVirtualTour  2975 non-null   bool   \n",
      " 14  m_hasBrochure     2975 non-null   bool   \n",
      " 15  ber_rating        2975 non-null   object \n",
      " 16  year              2975 non-null   int32  \n",
      " 17  month             2975 non-null   int32  \n",
      " 18  zone              2975 non-null   int32  \n",
      " 19  county            2975 non-null   object \n",
      " 20  town              2975 non-null   object \n",
      " 21  price             2975 non-null   int64  \n",
      "dtypes: bool(3), float64(3), int32(3), int64(4), object(9)\n",
      "memory usage: 503.2+ KB\n"
     ]
    }
   ],
   "source": [
    "train_data.info()"
   ]
  },
  {
   "cell_type": "markdown",
   "id": "3e8cb97c-821c-492c-9ae4-897b2907367a",
   "metadata": {},
   "source": [
    "#### Encodings"
   ]
  },
  {
   "cell_type": "markdown",
   "id": "5b288c8c-3634-4df6-8ef2-8700b27b7a06",
   "metadata": {},
   "source": [
    "* Emphasis has been put on keeping the dimensionality of the dataset as low as possible.\n",
    "* Label encoding was tested and resulted in values being used as ordinal, therefore, other types of encoding was preffered.\n",
    "* Label encoders work well only with decision tree based algorithms, where as we want to use linear models.\n"
   ]
  },
  {
   "cell_type": "markdown",
   "id": "defa921d-1abd-4436-8c9d-7b34ad71b3be",
   "metadata": {},
   "source": [
    "#### One Hot Encodings. propertyType, category, sellerType."
   ]
  },
  {
   "cell_type": "markdown",
   "id": "56ca2e0d-1b4b-499d-86ae-2bdbd96ca9ee",
   "metadata": {},
   "source": [
    "* Reasoning: High cardinality features result in increased memory usage due to the amount of dummy variables required to encode them which reduces the models performance. Therefore, they should be grouped based on some criteria and then encoded.\n",
    "* https://towardsdatascience.com/dealing-with-features-that-have-high-cardinality-1c9212d7ff1b"
   ]
  },
  {
   "cell_type": "code",
   "execution_count": 35,
   "id": "05d598c5-a270-4089-a2cb-0947094b8107",
   "metadata": {},
   "outputs": [],
   "source": [
    "train_data['propertyType'].replace(['End of Terrace', 'Bungalow', 'Townhouse', 'Duplex', 'Site', 'House', 'Studio'], 'Other', inplace=True)"
   ]
  },
  {
   "cell_type": "code",
   "execution_count": 36,
   "id": "bde5a30f-309e-4b0a-9be4-a654a4c5233b",
   "metadata": {},
   "outputs": [],
   "source": [
    "train_data  = pd.get_dummies(train_data, columns = ['propertyType'], dtype=int)"
   ]
  },
  {
   "cell_type": "code",
   "execution_count": 37,
   "id": "8df93a56-5708-4ad8-9af7-db9d487c7052",
   "metadata": {},
   "outputs": [],
   "source": [
    "train_data  = pd.get_dummies(train_data, columns = ['category'], dtype=int)"
   ]
  },
  {
   "cell_type": "code",
   "execution_count": 38,
   "id": "1b684912-44f4-43ad-91d7-956f26af329e",
   "metadata": {},
   "outputs": [],
   "source": [
    "train_data  = pd.get_dummies(train_data, columns = ['sellerType'], dtype=int)"
   ]
  },
  {
   "cell_type": "markdown",
   "id": "90acc272-dbae-44f0-bfe2-b21145faa16e",
   "metadata": {},
   "source": [
    "#### Ordinal Encodings. featuredLevel, ber_rating"
   ]
  },
  {
   "cell_type": "markdown",
   "id": "661aa64e-b264-4359-80b5-1072d56fe8df",
   "metadata": {},
   "source": [
    "* Reasoning: As the cardinality is relatively lower (only 3 unique values) and the values follow a natural progression.\n",
    "* According to daft.ie : standard < premium < featured."
   ]
  },
  {
   "cell_type": "code",
   "execution_count": 39,
   "id": "2cc2816e-0e99-46bb-9c1a-d2f3d806c331",
   "metadata": {},
   "outputs": [],
   "source": [
    "featuredLevels = ['standard', 'premium', 'featured']\n",
    "ber_ratings = ['XXX', 'SI_666', 'G', 'F', 'E2', 'E1', 'D2', 'D1', 'C3', 'C2', 'C1', 'B3', 'B2', 'B1', 'A3', 'A2', 'A1A2', 'A1']\n",
    "\n",
    "encoder = OrdinalEncoder(categories=[featuredLevels, ber_ratings])\n",
    "train_data[['featuredLevel', 'ber_rating']] = encoder.fit_transform(train_data[['featuredLevel', 'ber_rating']]) "
   ]
  },
  {
   "cell_type": "markdown",
   "id": "2c3a8a50-6391-4783-aee6-284ad62261ed",
   "metadata": {},
   "source": [
    "#### Target Encoding : town, county"
   ]
  },
  {
   "cell_type": "code",
   "execution_count": null,
   "id": "049bf9dd-ae84-453b-bfda-f47fe66525a0",
   "metadata": {},
   "outputs": [],
   "source": []
  },
  {
   "cell_type": "markdown",
   "id": "d35e4e84-0d4b-4e06-94df-5b6e6b0ffcec",
   "metadata": {},
   "source": [
    "* seller_name: Leave one out encoding\n",
    "* Reasoning: As we have 1152 distinct values, LOO will calculate the mean of the target without the current data point in calculations. This prevents data leakage and there is no additional dimensionality.\n",
    "* https://medium.com/anolytics/all-you-need-to-know-about-encoding-techniques-b3a0af68338b#:~:text=Leave%2DOne%2DOut%20Encoding%20(,which%20belongs%20to%20that%20category."
   ]
  },
  {
   "cell_type": "markdown",
   "id": "e7ce707b-722a-4694-99cf-17a4bbb390ef",
   "metadata": {},
   "source": [
    "* Leave one out encoding\n",
    "* Reasoning: As we have so many distinct values, LOO will calculate the mean of the target without the current data point in calculations. This prevents data leakage and there is no additional dimensionality.\n",
    "* https://medium.com/anolytics/all-you-need-to-know-about-encoding-techniques-b3a0af68338b#:~:text=Leave%2DOne%2DOut%20Encoding%20(,which%20belongs%20to%20that%20category."
   ]
  },
  {
   "cell_type": "code",
   "execution_count": 41,
   "id": "17fc8447-2200-4749-a5de-63f6d3881282",
   "metadata": {},
   "outputs": [],
   "source": [
    "train_data['county'] = train_data['county'].where(train_data['county'].isin(['Dublin', 'Limerick', 'Kildare', 'Galway', 'Louth', 'Cork', 'Mayo', 'Westmeath', 'Wexford', 'Kerry', 'Meath', 'Donegal', 'Roscommon', 'Wicklow', 'Waterford', 'Tipperary', 'Clare', 'Laois', 'Offaly', 'Kilkenny', 'Sligo', 'Cavan', 'Carlow', 'Leitrim', 'Longford', 'Monaghan']), other='Other')"
   ]
  },
  {
   "cell_type": "code",
   "execution_count": 53,
   "id": "4ba70793-cb6b-436b-999f-4bfb1b818460",
   "metadata": {},
   "outputs": [],
   "source": [
    "encoder = ce.LeaveOneOutEncoder(cols=['county'])\n",
    "data_encoded = encoder.fit_transform(train_data['county'], train_data['price'])\n",
    " \n",
    "train_data = train_data.merge(data_encoded, how = 'left', left_index=True, right_index=True)\n",
    "train_data.drop(['county_x'], axis=1, inplace = True)"
   ]
  },
  {
   "cell_type": "code",
   "execution_count": 54,
   "id": "46010527-f9f6-4c07-b40a-feee28987824",
   "metadata": {},
   "outputs": [],
   "source": [
    "encoder = ce.LeaveOneOutEncoder(cols=['town'])\n",
    "data_encoded = encoder.fit_transform(train_data['town'], train_data['price'])\n",
    " \n",
    "train_data = train_data.merge(data_encoded, how = 'left', left_index=True, right_index=True)\n",
    "train_data.drop(['town_x'], axis=1, inplace = True)"
   ]
  },
  {
   "cell_type": "markdown",
   "id": "a088f9ab-a5fd-4e42-9fbb-3b418bb64c72",
   "metadata": {},
   "source": [
    "#### word2Vec embedding.  variables left: sellername, sellerbranch, "
   ]
  },
  {
   "cell_type": "code",
   "execution_count": null,
   "id": "4de46a3b-5269-441b-8588-e2d7df6ce510",
   "metadata": {},
   "outputs": [],
   "source": []
  },
  {
   "cell_type": "code",
   "execution_count": null,
   "id": "5721ad94-3dca-49b0-b2f2-762445db45e9",
   "metadata": {},
   "outputs": [],
   "source": []
  },
  {
   "cell_type": "code",
   "execution_count": null,
   "id": "5e4ac367-f728-409a-9956-d091c7c316e7",
   "metadata": {},
   "outputs": [],
   "source": []
  },
  {
   "cell_type": "code",
   "execution_count": null,
   "id": "5b7ae626-b0cd-476c-894c-670562b59fdf",
   "metadata": {},
   "outputs": [],
   "source": []
  },
  {
   "cell_type": "code",
   "execution_count": null,
   "id": "5dc3b64e-bafe-422a-8b24-ad5fd6666d47",
   "metadata": {},
   "outputs": [],
   "source": []
  },
  {
   "cell_type": "markdown",
   "id": "14ed95ed-2abe-4469-8511-51d749abca1e",
   "metadata": {},
   "source": [
    " ---------------------------------------------------------------------- "
   ]
  },
  {
   "cell_type": "markdown",
   "id": "db520ae9-4c53-405f-8207-8fc8d619111e",
   "metadata": {},
   "source": [
    "-----------------------------------"
   ]
  },
  {
   "cell_type": "code",
   "execution_count": null,
   "id": "ba1e72b0-74e7-459d-af8d-2cfb52e3665c",
   "metadata": {},
   "outputs": [],
   "source": []
  },
  {
   "cell_type": "code",
   "execution_count": null,
   "id": "3bcead28-0014-4c32-b641-f76d5b7a849e",
   "metadata": {},
   "outputs": [],
   "source": []
  },
  {
   "cell_type": "code",
   "execution_count": null,
   "id": "d4a89bdc-93fa-4268-a8f9-30b164926d47",
   "metadata": {},
   "outputs": [],
   "source": []
  },
  {
   "cell_type": "code",
   "execution_count": null,
   "id": "3f333093-a3ef-48bc-9158-452510668dc9",
   "metadata": {},
   "outputs": [],
   "source": []
  },
  {
   "cell_type": "code",
   "execution_count": null,
   "id": "71222517-6a2c-4737-9ce6-1cdc0910fbd6",
   "metadata": {},
   "outputs": [],
   "source": []
  },
  {
   "cell_type": "code",
   "execution_count": null,
   "id": "49c4e36a-65cf-451d-ba92-601529a24967",
   "metadata": {},
   "outputs": [],
   "source": []
  },
  {
   "cell_type": "code",
   "execution_count": null,
   "id": "709733a0-7adb-4aa1-86a7-2ee39bc0a2ea",
   "metadata": {},
   "outputs": [],
   "source": []
  },
  {
   "cell_type": "code",
   "execution_count": null,
   "id": "140f924c-3841-4f44-a494-aee13da2b4f4",
   "metadata": {},
   "outputs": [],
   "source": []
  },
  {
   "cell_type": "code",
   "execution_count": null,
   "id": "f9540e01-0384-406d-a032-21806a96649a",
   "metadata": {},
   "outputs": [],
   "source": []
  },
  {
   "cell_type": "code",
   "execution_count": null,
   "id": "65f99c7e-13ea-4029-961c-a43a665e784c",
   "metadata": {},
   "outputs": [],
   "source": []
  },
  {
   "cell_type": "code",
   "execution_count": null,
   "id": "ca51f22f-2b0e-4658-ae6e-6d9dea0ac98d",
   "metadata": {},
   "outputs": [],
   "source": [
    "fig, ax = plt.subplots(figsize=(15,8))\n",
    "# plot map on axis\n",
    "countries = gpd.read_file(  \n",
    "     gpd.datasets.get_path(\"naturalearth_lowres\"))\n",
    "countries[countries[\"name\"] == \"Ireland\"].plot(color=\"lightgrey\",\n",
    "                                                 ax=ax)\n",
    "data.plot(x=\"longitude\", y=\"latitude\", kind=\"scatter\", \n",
    "        c=\"pickup cluster\", colormap=\"YlOrRd\", \n",
    "        title=\"A MAP OF PROPERTIES ON SALE IN IRELAND\", \n",
    "        ax=ax)\n",
    "plt.show()"
   ]
  },
  {
   "cell_type": "code",
   "execution_count": null,
   "id": "f60f5b8b-8eaa-47b2-ad86-5a5fe92dad1a",
   "metadata": {},
   "outputs": [],
   "source": [
    "data.info()"
   ]
  },
  {
   "cell_type": "markdown",
   "id": "61a9c02c-1e69-44af-9246-c12a73e33006",
   "metadata": {},
   "source": [
    "\n",
    "### Data Exploration and Preparation"
   ]
  },
  {
   "cell_type": "markdown",
   "id": "9e397b8d-beb8-4607-ae71-56e9bc3517c8",
   "metadata": {},
   "source": [
    "* #### Data is split in the early phase so that we can analyze the performance of our model (which uses train_data).\n",
    "* #### Test data will remain untouched until the very end."
   ]
  },
  {
   "cell_type": "code",
   "execution_count": null,
   "id": "2daa2849-27ce-4a7e-898a-7b4559c09491",
   "metadata": {},
   "outputs": [],
   "source": [
    "\n",
    "\n"
   ]
  },
  {
   "cell_type": "markdown",
   "id": "68755a1b-ea30-467d-8578-d593eb340e77",
   "metadata": {},
   "source": []
  },
  {
   "cell_type": "code",
   "execution_count": null,
   "id": "62862421-8bce-4270-ae0d-870b41f9ce71",
   "metadata": {},
   "outputs": [],
   "source": []
  },
  {
   "cell_type": "code",
   "execution_count": null,
   "id": "6103fe3e-5199-495b-bc39-8f9b57b88cc2",
   "metadata": {},
   "outputs": [],
   "source": [
    "train_data = X_train.join(y_train)"
   ]
  },
  {
   "cell_type": "code",
   "execution_count": null,
   "id": "339e542a-c36f-4151-a86b-9cdb2c4523aa",
   "metadata": {
    "scrolled": true
   },
   "outputs": [],
   "source": [
    "train_data.head()"
   ]
  },
  {
   "cell_type": "markdown",
   "id": "07fde4cf-37ec-4a7a-913a-e11afcfe8cf8",
   "metadata": {},
   "source": [
    "### Feature Engineering"
   ]
  },
  {
   "cell_type": "markdown",
   "id": "5c9e53f5-9e36-407f-b6aa-a7d764370bc0",
   "metadata": {},
   "source": [
    "#### https://heartbeat.comet.ml/working-with-geospatial-data-in-machine-learning-ad4097c7228d\n",
    "#### Using clustering to replace latitude and longitude with a location cluster as the co-ordinates themselves do not present any usability for ML"
   ]
  },
  {
   "cell_type": "code",
   "execution_count": null,
   "id": "8680d70e-6d48-4d8d-bcef-12d442345560",
   "metadata": {},
   "outputs": [],
   "source": [
    "from sklearn.cluster import KMeans ,AgglomerativeClustering\n",
    "\n",
    "agc = AgglomerativeClustering(n_clusters =5, metric='euclidean', linkage='ward')\n",
    "train_data['location_cluster'] = agc.fit_predict(train_data[['latitude','longitude']])\n",
    "coord = train_data[['latitude', 'longitude']]\n",
    "train_data.drop(['latitude', 'longitude'], axis=1, inplace = True)"
   ]
  },
  {
   "cell_type": "markdown",
   "id": "80e3e1c6-1136-4d52-bd63-72fc109203ea",
   "metadata": {},
   "source": [
    "#### Data distribution"
   ]
  },
  {
   "cell_type": "code",
   "execution_count": null,
   "id": "76217f47-943f-4219-b8f2-fbed8b483a90",
   "metadata": {},
   "outputs": [],
   "source": [
    "data.hist(figsize=(15,8))"
   ]
  },
  {
   "cell_type": "markdown",
   "id": "aa0b6265-1369-40cf-b1f4-0341f40b3fe3",
   "metadata": {},
   "source": [
    "#### Data is heavily skewed, by using logarithmic transformation, most of it can be transformed into a gaussian curve."
   ]
  },
  {
   "cell_type": "code",
   "execution_count": null,
   "id": "a2a278ea-b5e0-43be-8600-e3fe749a5c4f",
   "metadata": {},
   "outputs": [],
   "source": [
    "train_data['numBedrooms'] = np.log(train_data['numBedrooms']+1)\n",
    "train_data['numBathrooms'] = np.log(train_data['numBathrooms']+1)\n",
    "train_data['propertySize'] = np.log(train_data['propertySize']+1)\n",
    "train_data['price'] = np.log(train_data['price']+1)\n",
    "train_data['year'] = np.log(train_data['year']+1)\n",
    "train_data['month'] = np.log(train_data['month']+1)\n",
    "train_data['location_cluster'] = np.log(train_data['location_cluster']+1)\n",
    "#train_data = train_data[['numBedrooms', 'numBathrooms', 'propertySize', 'price']].apply(lambda x: np.log(x))"
   ]
  },
  {
   "cell_type": "code",
   "execution_count": null,
   "id": "5aef3751-88ff-462e-9bde-d5611396bbb1",
   "metadata": {},
   "outputs": [],
   "source": [
    "train_data.hist(figsize=(15,8))"
   ]
  },
  {
   "cell_type": "code",
   "execution_count": null,
   "id": "0f9eca0f-955d-4c3d-b056-dde56790edb4",
   "metadata": {},
   "outputs": [],
   "source": [
    "sns.set(rc={\"figure.figsize\":(25, 8)})\n",
    "sns.boxplot(data)"
   ]
  },
  {
   "cell_type": "markdown",
   "id": "684510c0-1791-43bb-abe7-25520d720557",
   "metadata": {},
   "source": [
    "#### Data Encoding"
   ]
  },
  {
   "cell_type": "markdown",
   "id": "4e07b37a-4c41-47ff-9bb9-0de0647f698a",
   "metadata": {},
   "source": [
    "#### Dropping missing energy rating values as these cannot be replaced."
   ]
  },
  {
   "cell_type": "code",
   "execution_count": null,
   "id": "797226f9-da82-46ca-a0eb-e70f61776f1a",
   "metadata": {},
   "outputs": [],
   "source": [
    "train_data['ber_rating'].value_counts().get('XXX', 0)"
   ]
  },
  {
   "cell_type": "code",
   "execution_count": null,
   "id": "7aa4d053-6d8c-4c51-b68c-d72a4a9178fe",
   "metadata": {},
   "outputs": [],
   "source": [
    "train_data.drop(train_data[train_data['ber_rating'] == 'XXX'].index, inplace=True)"
   ]
  },
  {
   "cell_type": "markdown",
   "id": "29826286-e394-42b7-a81d-c2eebab85cb9",
   "metadata": {},
   "source": [
    "#### Dealing with High Cardinality in Categorical Features\n",
    "##### We can see that the amount of unique values is alot for using One Hot Encoding as it will introduce Curse of Dimensionality.\n",
    "##### Hence, we use simple aggregation to convert all values to 'other' except the 3 most occuring values and then we can use Label Encoding."
   ]
  },
  {
   "cell_type": "code",
   "execution_count": null,
   "id": "22cbf7b2-d6a3-4aa5-aeab-2850b322c4fc",
   "metadata": {},
   "outputs": [],
   "source": [
    "train_data['propertyType'].value_counts()"
   ]
  },
  {
   "cell_type": "code",
   "execution_count": null,
   "id": "c2d217e2-ff3b-4111-86d6-f71b8bcd83ae",
   "metadata": {},
   "outputs": [],
   "source": [
    "train_data['propertyType'].replace(['Terrace', 'End of Terrace', 'Bungalow', 'Townhouse', 'Duplex', 'Site', 'House', 'Studio'], 'Other', inplace=True)"
   ]
  },
  {
   "cell_type": "code",
   "execution_count": null,
   "id": "44951b27-d7a5-41d9-87ef-cdab60b9587d",
   "metadata": {},
   "outputs": [],
   "source": [
    "train_data['propertyType'].value_counts()"
   ]
  },
  {
   "cell_type": "code",
   "execution_count": null,
   "id": "8fb3a6ec-c625-4549-9310-0e59c86a2b0e",
   "metadata": {},
   "outputs": [],
   "source": [
    "label_encoder = preprocessing.LabelEncoder() \n",
    "\n",
    "train_data['propertyType'] = label_encoder.fit_transform(train_data['propertyType'])"
   ]
  },
  {
   "cell_type": "code",
   "execution_count": null,
   "id": "b9258e42-b15a-4873-ab04-e1b410412a8d",
   "metadata": {},
   "outputs": [],
   "source": [
    "train_data  = pd.get_dummies(train_data, columns = ['sellerType'], dtype=int)"
   ]
  },
  {
   "cell_type": "code",
   "execution_count": null,
   "id": "7c697d49-5d57-4e42-9f8d-68736fa5c039",
   "metadata": {},
   "outputs": [],
   "source": [
    "train_data.head()"
   ]
  },
  {
   "cell_type": "code",
   "execution_count": null,
   "id": "f707fe6d-be18-46b1-9824-4e201d93bbc0",
   "metadata": {},
   "outputs": [],
   "source": [
    "train_data['ber_rating'].value_counts()"
   ]
  },
  {
   "cell_type": "markdown",
   "id": "c8050d30-9ca8-42ca-802c-619e54d4fae0",
   "metadata": {},
   "source": [
    "#### Dropping A1A2 as it seems erronous and it is only 1 row"
   ]
  },
  {
   "cell_type": "code",
   "execution_count": null,
   "id": "107bac20-4872-4041-a894-092b82220410",
   "metadata": {},
   "outputs": [],
   "source": [
    "train_data = train_data[train_data.ber_rating != 'A1A2']"
   ]
  },
  {
   "cell_type": "code",
   "execution_count": null,
   "id": "c67d1e84-f7d6-452b-ac5d-ead0506aef32",
   "metadata": {},
   "outputs": [],
   "source": [
    "train_data['ber_rating'].replace({'A1': 'high', 'A2': 'high', 'A3': 'high', \n",
    "                                   'B1': 'med', 'B2': 'med', 'B3': 'med', \n",
    "                                   'C1': 'low', 'C2': 'low', 'C3': 'low', \n",
    "                                   'D1': 'low', 'D2': 'low', 'D3': 'low', \n",
    "                                   'E1': 'low', 'E2': 'low', 'F': 'low', \n",
    "                                   'G': 'low', 'SI_666': 'low'}, inplace=True)"
   ]
  },
  {
   "cell_type": "code",
   "execution_count": null,
   "id": "8643c726-8de1-4696-870b-250eaa84c87e",
   "metadata": {},
   "outputs": [],
   "source": [
    "train_data['ber_rating'].value_counts()"
   ]
  },
  {
   "cell_type": "code",
   "execution_count": null,
   "id": "ed60a153-646b-4776-bab2-0dacaab835f3",
   "metadata": {},
   "outputs": [],
   "source": [
    "train_data  = pd.get_dummies(train_data, columns = ['ber_rating'], dtype=int)"
   ]
  },
  {
   "cell_type": "code",
   "execution_count": null,
   "id": "c115d222-34fa-4015-a4f9-57093b08e3bc",
   "metadata": {},
   "outputs": [],
   "source": [
    "train_data.head()"
   ]
  },
  {
   "cell_type": "code",
   "execution_count": null,
   "id": "69424fa7-5268-46c7-9543-2da0fb6687a8",
   "metadata": {},
   "outputs": [],
   "source": [
    "plt.figure(figsize=(16, 6))\n",
    "heatmap = sns.heatmap(train_data.corr(), vmin=-1, vmax=1, annot=True)\n",
    "heatmap.set_title('Correlation Heatmap', fontdict={'fontsize':12}, pad=12)"
   ]
  },
  {
   "cell_type": "markdown",
   "id": "64517022-c6ff-4602-9332-c2471d027edc",
   "metadata": {},
   "source": [
    "* #### Price is affected by numBedrooms, numBathrooms, propertyType, propertySize, Year, Energy Ratings (ber) and the type of seller.\n",
    "* #### Private sellers inflate price the most.\n",
    "* #### The prices for houses that went up for sale during late times of the year are at lower pirce.\n",
    "* #### Location cluster impacts the price inversely, the relation is better explained by the map below."
   ]
  },
  {
   "cell_type": "code",
   "execution_count": null,
   "id": "43056208-b0d8-413d-9542-30fbf5ee1313",
   "metadata": {},
   "outputs": [],
   "source": [
    "import geopandas as gpd\n",
    "\n",
    "fig, ax = plt.subplots(figsize=(15,8))\n",
    "# plot map on axis\n",
    "countries = gpd.read_file(  \n",
    "     gpd.datasets.get_path(\"naturalearth_lowres\"))\n",
    "countries[countries[\"name\"] == \"Ireland\"].plot(color=\"lightgrey\",\n",
    "                                                 ax=ax)\n",
    "\n",
    "coord.join(train_data).plot(x=\"longitude\", y=\"latitude\", kind=\"scatter\", \n",
    "        c=\"location_cluster\", colormap=\"YlOrRd\", \n",
    "        title=\"A MAP OF PROPERTIES ON SALE IN IRELAND\", \n",
    "        ax=ax)\n",
    "\n",
    "plt.show()"
   ]
  },
  {
   "cell_type": "markdown",
   "id": "c2017a68-5f37-4555-b85a-2b8af195bbb2",
   "metadata": {},
   "source": [
    "* #### Prices are actually more competitive in east than the west.\n",
    "* #### This could also show that most of the properties in the east are small form i.e apartments"
   ]
  },
  {
   "cell_type": "code",
   "execution_count": null,
   "id": "7c97c905-6bc9-4d2f-b6f3-8b60b09e60f0",
   "metadata": {},
   "outputs": [],
   "source": [
    "sns.scatterplot(data=train_data, x=\"propertySize\", y=\"price\")"
   ]
  },
  {
   "cell_type": "markdown",
   "id": "9a2644b8-b89b-4a8a-b474-c3681b3d0c82",
   "metadata": {},
   "source": [
    "#### Majority of the values form a cluster, we can deduce that property Size and the price has a strong correlation"
   ]
  },
  {
   "cell_type": "code",
   "execution_count": null,
   "id": "f14caef7-0795-4ef3-99bc-ee2f64667d4d",
   "metadata": {},
   "outputs": [],
   "source": [
    "grouped_data = train_data.groupby('year')[['ber_rating_high','ber_rating_med', 'ber_rating_low']].sum().reset_index()\n",
    "grouped_data.head()"
   ]
  },
  {
   "cell_type": "code",
   "execution_count": null,
   "id": "40ffeee8-f5d5-4429-ade2-13e3c2549a56",
   "metadata": {},
   "outputs": [],
   "source": [
    "plt.figure(figsize=(8, 6))\n",
    "reshaped_data = grouped_data.melt(id_vars='year', var_name='ber_rating', value_name='Count')\n",
    "\n",
    "sns.lineplot(data=reshaped_data, x='year', y='Count', hue='ber_rating')\n",
    "plt.xlabel('Year')\n",
    "plt.ylabel('Count')\n",
    "plt.legend(title='Energy Rating')\n",
    "plt.tight_layout()\n",
    "plt.show()"
   ]
  },
  {
   "cell_type": "markdown",
   "id": "b0467d11-daa7-461e-8877-a954902142b1",
   "metadata": {},
   "source": [
    "* #### The number of houses with a lower energy rating increased the most during the recent years"
   ]
  },
  {
   "cell_type": "markdown",
   "id": "b6f9f544-44ff-4a31-a5b5-f264528f1f63",
   "metadata": {},
   "source": [
    "#### Modelling"
   ]
  },
  {
   "cell_type": "code",
   "execution_count": null,
   "id": "0d527337-ecd0-4307-b6a2-adb4194b28d5",
   "metadata": {},
   "outputs": [],
   "source": [
    "import keras\n",
    "from keras.models import Sequential\n",
    "from keras.layers import Dense"
   ]
  },
  {
   "cell_type": "code",
   "execution_count": null,
   "id": "2235c9ba-7db2-46b4-a67a-9a5e77738347",
   "metadata": {},
   "outputs": [],
   "source": [
    "seed = 9\n",
    "np.random.seed(seed)"
   ]
  },
  {
   "cell_type": "code",
   "execution_count": null,
   "id": "ce338332-b9dd-4b31-a352-896180278424",
   "metadata": {},
   "outputs": [],
   "source": [
    "train_data.shape"
   ]
  },
  {
   "cell_type": "markdown",
   "id": "f2cda1f8-5c14-4665-8ba5-e70e010af52e",
   "metadata": {},
   "source": [
    "#### Reshaping Data"
   ]
  },
  {
   "cell_type": "code",
   "execution_count": null,
   "id": "554ddfaa-bd13-49b2-a3ea-3429d4ec7e78",
   "metadata": {},
   "outputs": [],
   "source": []
  }
 ],
 "metadata": {
  "kernelspec": {
   "display_name": "Python 3 (ipykernel)",
   "language": "python",
   "name": "python3"
  },
  "language_info": {
   "codemirror_mode": {
    "name": "ipython",
    "version": 3
   },
   "file_extension": ".py",
   "mimetype": "text/x-python",
   "name": "python",
   "nbconvert_exporter": "python",
   "pygments_lexer": "ipython3",
   "version": "3.11.7"
  }
 },
 "nbformat": 4,
 "nbformat_minor": 5
}
