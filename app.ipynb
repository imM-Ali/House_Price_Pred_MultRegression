{
 "cells": [
  {
   "cell_type": "code",
   "execution_count": 1,
   "id": "58e6d38b-c695-4d6e-ba9d-6091bbccf9d7",
   "metadata": {},
   "outputs": [],
   "source": [
    "import numpy as np\n",
    "from flask import Flask, request, jsonify, render_template\n",
    "import pickle"
   ]
  },
  {
   "cell_type": "markdown",
   "id": "a7e8e2d7-16b5-4571-928c-fc22b73fe25f",
   "metadata": {},
   "source": [
    "Creating a flask app"
   ]
  },
  {
   "cell_type": "code",
   "execution_count": 2,
   "id": "4e415665-e047-42fd-998b-22cdfa5b0765",
   "metadata": {},
   "outputs": [],
   "source": [
    "app = Flask(__name__)"
   ]
  },
  {
   "cell_type": "markdown",
   "id": "3d24673b-5396-4916-b6c2-dc1c7f641d00",
   "metadata": {},
   "source": [
    "Loading model"
   ]
  },
  {
   "cell_type": "code",
   "execution_count": 3,
   "id": "ad29b12b-822d-4d04-9bc7-7db55b975ca8",
   "metadata": {},
   "outputs": [],
   "source": [
    "xgb = pickle.load(open('xgb.pkl', 'rb'))"
   ]
  },
  {
   "cell_type": "code",
   "execution_count": 4,
   "id": "608c8743-415f-49e7-98f8-53479b9f956b",
   "metadata": {},
   "outputs": [],
   "source": [
    "random_forest = pickle.load(open('rf.pkl', 'rb'))"
   ]
  },
  {
   "cell_type": "code",
   "execution_count": 5,
   "id": "23e1bd3a-6d68-4c01-a732-d9918dae7d68",
   "metadata": {},
   "outputs": [],
   "source": [
    "@app.route(\"/\")\n",
    "def Home():\n",
    "    return render_template(\"index.html\")"
   ]
  },
  {
   "cell_type": "code",
   "execution_count": 6,
   "id": "d37c7087-216a-410d-85c7-048f34ec5038",
   "metadata": {},
   "outputs": [],
   "source": [
    "@app.route(\"/predict\", methods = [\"POST\"])\n",
    "def predict():\n",
    "    float_features = [float(x) for x in request.form.values()]\n",
    "    features = [np.array(float_features)]\n",
    "\n",
    "    prediction = xgb.predict(features)\n",
    "    prediction2 = random_forest.predict(features)\n",
    "    return render_template(\"index.html\", prediction_text = \"XGB Predict price of House : {}, RandomForest Predict price of House : {}\".format(prediction,prediction2))"
   ]
  },
  {
   "cell_type": "code",
   "execution_count": null,
   "id": "567c8ccb-ea1a-4f81-8fe2-032ff0898769",
   "metadata": {},
   "outputs": [
    {
     "name": "stdout",
     "output_type": "stream",
     "text": [
      " * Serving Flask app '__main__'\n",
      " * Debug mode: off\n"
     ]
    },
    {
     "name": "stderr",
     "output_type": "stream",
     "text": [
      "WARNING: This is a development server. Do not use it in a production deployment. Use a production WSGI server instead.\n",
      " * Running on http://127.0.0.1:5000\n",
      "Press CTRL+C to quit\n",
      "127.0.0.1 - - [16/May/2024 19:10:38] \"GET / HTTP/1.1\" 200 -\n",
      "127.0.0.1 - - [16/May/2024 19:11:17] \"POST /predict HTTP/1.1\" 200 -\n"
     ]
    }
   ],
   "source": [
    "if __name__ == \"__main__\":\n",
    "    app.run()"
   ]
  },
  {
   "cell_type": "code",
   "execution_count": null,
   "id": "abf642af-d490-455c-8727-eebcd42f8415",
   "metadata": {},
   "outputs": [],
   "source": [
    "%tb"
   ]
  },
  {
   "cell_type": "code",
   "execution_count": null,
   "id": "14f7049f-12fd-4059-a778-e9b1d05c4d9f",
   "metadata": {},
   "outputs": [],
   "source": []
  }
 ],
 "metadata": {
  "kernelspec": {
   "display_name": "Python 3 (ipykernel)",
   "language": "python",
   "name": "python3"
  },
  "language_info": {
   "codemirror_mode": {
    "name": "ipython",
    "version": 3
   },
   "file_extension": ".py",
   "mimetype": "text/x-python",
   "name": "python",
   "nbconvert_exporter": "python",
   "pygments_lexer": "ipython3",
   "version": "3.11.7"
  }
 },
 "nbformat": 4,
 "nbformat_minor": 5
}
